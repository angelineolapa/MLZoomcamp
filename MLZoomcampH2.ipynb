{
 "cells": [
  {
   "cell_type": "markdown",
   "id": "28ae3c2c-5185-40d4-aa96-99acffd47cb7",
   "metadata": {},
   "source": [
    "**MLZoomcamp - Homework2**"
   ]
  },
  {
   "cell_type": "code",
   "execution_count": 1,
   "id": "fddcf52d-a852-4f08-b4dc-aca13914dce7",
   "metadata": {},
   "outputs": [],
   "source": [
    "#Libraries\n",
    "import numpy as np\n",
    "import pandas as pd"
   ]
  },
  {
   "cell_type": "code",
   "execution_count": 2,
   "id": "661eb5c3-592a-4b57-bcda-16e559942da2",
   "metadata": {},
   "outputs": [],
   "source": [
    "#Get data\n",
    "df = pd.read_csv(\"/home/jovyan/datasets/housing.csv\")"
   ]
  },
  {
   "cell_type": "code",
   "execution_count": 3,
   "id": "5863b0e8-b838-4dbd-93df-38ee948f8480",
   "metadata": {},
   "outputs": [
    {
     "data": {
      "text/html": [
       "<div>\n",
       "<style scoped>\n",
       "    .dataframe tbody tr th:only-of-type {\n",
       "        vertical-align: middle;\n",
       "    }\n",
       "\n",
       "    .dataframe tbody tr th {\n",
       "        vertical-align: top;\n",
       "    }\n",
       "\n",
       "    .dataframe thead th {\n",
       "        text-align: right;\n",
       "    }\n",
       "</style>\n",
       "<table border=\"1\" class=\"dataframe\">\n",
       "  <thead>\n",
       "    <tr style=\"text-align: right;\">\n",
       "      <th></th>\n",
       "      <th>longitude</th>\n",
       "      <th>latitude</th>\n",
       "      <th>housing_median_age</th>\n",
       "      <th>total_rooms</th>\n",
       "      <th>total_bedrooms</th>\n",
       "      <th>population</th>\n",
       "      <th>households</th>\n",
       "      <th>median_income</th>\n",
       "      <th>median_house_value</th>\n",
       "    </tr>\n",
       "  </thead>\n",
       "  <tbody>\n",
       "    <tr>\n",
       "      <th>count</th>\n",
       "      <td>20640.000000</td>\n",
       "      <td>20640.000000</td>\n",
       "      <td>20640.000000</td>\n",
       "      <td>20640.000000</td>\n",
       "      <td>20433.000000</td>\n",
       "      <td>20640.000000</td>\n",
       "      <td>20640.000000</td>\n",
       "      <td>20640.000000</td>\n",
       "      <td>20640.000000</td>\n",
       "    </tr>\n",
       "    <tr>\n",
       "      <th>mean</th>\n",
       "      <td>-119.569704</td>\n",
       "      <td>35.631861</td>\n",
       "      <td>28.639486</td>\n",
       "      <td>2635.763081</td>\n",
       "      <td>537.870553</td>\n",
       "      <td>1425.476744</td>\n",
       "      <td>499.539680</td>\n",
       "      <td>3.870671</td>\n",
       "      <td>206855.816909</td>\n",
       "    </tr>\n",
       "    <tr>\n",
       "      <th>std</th>\n",
       "      <td>2.003532</td>\n",
       "      <td>2.135952</td>\n",
       "      <td>12.585558</td>\n",
       "      <td>2181.615252</td>\n",
       "      <td>421.385070</td>\n",
       "      <td>1132.462122</td>\n",
       "      <td>382.329753</td>\n",
       "      <td>1.899822</td>\n",
       "      <td>115395.615874</td>\n",
       "    </tr>\n",
       "    <tr>\n",
       "      <th>min</th>\n",
       "      <td>-124.350000</td>\n",
       "      <td>32.540000</td>\n",
       "      <td>1.000000</td>\n",
       "      <td>2.000000</td>\n",
       "      <td>1.000000</td>\n",
       "      <td>3.000000</td>\n",
       "      <td>1.000000</td>\n",
       "      <td>0.499900</td>\n",
       "      <td>14999.000000</td>\n",
       "    </tr>\n",
       "    <tr>\n",
       "      <th>25%</th>\n",
       "      <td>-121.800000</td>\n",
       "      <td>33.930000</td>\n",
       "      <td>18.000000</td>\n",
       "      <td>1447.750000</td>\n",
       "      <td>296.000000</td>\n",
       "      <td>787.000000</td>\n",
       "      <td>280.000000</td>\n",
       "      <td>2.563400</td>\n",
       "      <td>119600.000000</td>\n",
       "    </tr>\n",
       "    <tr>\n",
       "      <th>50%</th>\n",
       "      <td>-118.490000</td>\n",
       "      <td>34.260000</td>\n",
       "      <td>29.000000</td>\n",
       "      <td>2127.000000</td>\n",
       "      <td>435.000000</td>\n",
       "      <td>1166.000000</td>\n",
       "      <td>409.000000</td>\n",
       "      <td>3.534800</td>\n",
       "      <td>179700.000000</td>\n",
       "    </tr>\n",
       "    <tr>\n",
       "      <th>75%</th>\n",
       "      <td>-118.010000</td>\n",
       "      <td>37.710000</td>\n",
       "      <td>37.000000</td>\n",
       "      <td>3148.000000</td>\n",
       "      <td>647.000000</td>\n",
       "      <td>1725.000000</td>\n",
       "      <td>605.000000</td>\n",
       "      <td>4.743250</td>\n",
       "      <td>264725.000000</td>\n",
       "    </tr>\n",
       "    <tr>\n",
       "      <th>max</th>\n",
       "      <td>-114.310000</td>\n",
       "      <td>41.950000</td>\n",
       "      <td>52.000000</td>\n",
       "      <td>39320.000000</td>\n",
       "      <td>6445.000000</td>\n",
       "      <td>35682.000000</td>\n",
       "      <td>6082.000000</td>\n",
       "      <td>15.000100</td>\n",
       "      <td>500001.000000</td>\n",
       "    </tr>\n",
       "  </tbody>\n",
       "</table>\n",
       "</div>"
      ],
      "text/plain": [
       "          longitude      latitude  housing_median_age   total_rooms  \\\n",
       "count  20640.000000  20640.000000        20640.000000  20640.000000   \n",
       "mean    -119.569704     35.631861           28.639486   2635.763081   \n",
       "std        2.003532      2.135952           12.585558   2181.615252   \n",
       "min     -124.350000     32.540000            1.000000      2.000000   \n",
       "25%     -121.800000     33.930000           18.000000   1447.750000   \n",
       "50%     -118.490000     34.260000           29.000000   2127.000000   \n",
       "75%     -118.010000     37.710000           37.000000   3148.000000   \n",
       "max     -114.310000     41.950000           52.000000  39320.000000   \n",
       "\n",
       "       total_bedrooms    population    households  median_income  \\\n",
       "count    20433.000000  20640.000000  20640.000000   20640.000000   \n",
       "mean       537.870553   1425.476744    499.539680       3.870671   \n",
       "std        421.385070   1132.462122    382.329753       1.899822   \n",
       "min          1.000000      3.000000      1.000000       0.499900   \n",
       "25%        296.000000    787.000000    280.000000       2.563400   \n",
       "50%        435.000000   1166.000000    409.000000       3.534800   \n",
       "75%        647.000000   1725.000000    605.000000       4.743250   \n",
       "max       6445.000000  35682.000000   6082.000000      15.000100   \n",
       "\n",
       "       median_house_value  \n",
       "count        20640.000000  \n",
       "mean        206855.816909  \n",
       "std         115395.615874  \n",
       "min          14999.000000  \n",
       "25%         119600.000000  \n",
       "50%         179700.000000  \n",
       "75%         264725.000000  \n",
       "max         500001.000000  "
      ]
     },
     "execution_count": 3,
     "metadata": {},
     "output_type": "execute_result"
    }
   ],
   "source": [
    "#Initial EDA\n",
    "df.describe()"
   ]
  },
  {
   "cell_type": "code",
   "execution_count": 4,
   "id": "15fce18b-6f9b-4d64-9248-5b09d4d08d1a",
   "metadata": {},
   "outputs": [
    {
     "data": {
      "text/plain": [
       "<AxesSubplot:ylabel='Frequency'>"
      ]
     },
     "execution_count": 4,
     "metadata": {},
     "output_type": "execute_result"
    },
    {
     "data": {
      "image/png": "[encoded data removed]",
      "text/plain": [
       "<Figure size 640x480 with 1 Axes>"
      ]
     },
     "metadata": {},
     "output_type": "display_data"
    }
   ],
   "source": [
    "df[\"median_house_value\"].plot(kind=\"hist\", bins=50)"
   ]
  },
  {
   "cell_type": "code",
   "execution_count": 5,
   "id": "7ab690a8-030b-4cba-a0b9-b08b9c578736",
   "metadata": {},
   "outputs": [],
   "source": [
    "df = df[[\"latitude\", \"longitude\", \"housing_median_age\", \"total_rooms\",\n",
    "        \"total_bedrooms\", \"population\", \"households\", \"median_income\", \"median_house_value\"]]"
   ]
  },
  {
   "cell_type": "markdown",
   "id": "e9d66280-aa16-4654-b6b5-dbad7477ca7a",
   "metadata": {},
   "source": [
    "**Question 1**"
   ]
  },
  {
   "cell_type": "code",
   "execution_count": 6,
   "id": "281b4c35-b302-4414-8e88-7407aea85558",
   "metadata": {},
   "outputs": [
    {
     "name": "stdout",
     "output_type": "stream",
     "text": [
      "<class 'pandas.core.frame.DataFrame'>\n",
      "RangeIndex: 20640 entries, 0 to 20639\n",
      "Data columns (total 9 columns):\n",
      " #   Column              Non-Null Count  Dtype  \n",
      "---  ------              --------------  -----  \n",
      " 0   latitude            20640 non-null  float64\n",
      " 1   longitude           20640 non-null  float64\n",
      " 2   housing_median_age  20640 non-null  float64\n",
      " 3   total_rooms         20640 non-null  float64\n",
      " 4   total_bedrooms      20433 non-null  float64\n",
      " 5   population          20640 non-null  float64\n",
      " 6   households          20640 non-null  float64\n",
      " 7   median_income       20640 non-null  float64\n",
      " 8   median_house_value  20640 non-null  float64\n",
      "dtypes: float64(9)\n",
      "memory usage: 1.4 MB\n"
     ]
    }
   ],
   "source": [
    "df.info()"
   ]
  },
  {
   "cell_type": "code",
   "execution_count": 7,
   "id": "0d3d8737-1761-485e-89b8-e8c7d7c3a112",
   "metadata": {},
   "outputs": [
    {
     "data": {
      "text/plain": [
       "207"
      ]
     },
     "execution_count": 7,
     "metadata": {},
     "output_type": "execute_result"
    }
   ],
   "source": [
    "#Number of missing values in total_bedrooms\n",
    "df[\"total_bedrooms\"].isnull().sum()"
   ]
  },
  {
   "cell_type": "markdown",
   "id": "1bdb24f1-2ad8-4991-a2f9-396dd293be28",
   "metadata": {},
   "source": [
    "**Question 2**"
   ]
  },
  {
   "cell_type": "code",
   "execution_count": 8,
   "id": "a085d601-23ba-484d-8db9-107f42ba8906",
   "metadata": {},
   "outputs": [
    {
     "data": {
      "text/plain": [
       "1166.0"
      ]
     },
     "execution_count": 8,
     "metadata": {},
     "output_type": "execute_result"
    }
   ],
   "source": [
    "df[\"population\"].median()"
   ]
  },
  {
   "cell_type": "code",
   "execution_count": 9,
   "id": "e4a04b3a-1e4e-4e13-a070-b1a1590cbf5c",
   "metadata": {},
   "outputs": [],
   "source": [
    "#Set seed\n",
    "np.random.seed(42)\n",
    "\n",
    "#Define set sizes\n",
    "n = len(df)\n",
    "n_val = int(0.2 * n)\n",
    "n_test = int(0.2 * n)\n",
    "n_train = n - (n_val + n_test)\n",
    "\n",
    "#Shuffle dataset\n",
    "idx = np.arange(n)\n",
    "np.random.shuffle(idx)\n",
    "df_shuffled = df.iloc[idx]"
   ]
  },
  {
   "cell_type": "code",
   "execution_count": 10,
   "id": "5eb5fbca-d3ee-403a-b683-a7ae88a9a369",
   "metadata": {},
   "outputs": [],
   "source": [
    "#Split data into train, validation and test sets\n",
    "df_train = df_shuffled.iloc[:n_train].copy().reset_index()\n",
    "df_val = df_shuffled.iloc[n_train:n_train+n_val].copy().reset_index()\n",
    "df_test = df_shuffled.iloc[n_train+n_val:].copy().reset_index()"
   ]
  },
  {
   "cell_type": "code",
   "execution_count": 11,
   "id": "2be187bc-2bf4-40e3-8ec8-90626841e486",
   "metadata": {},
   "outputs": [],
   "source": [
    "#Obtain dependent variable and apply log transformation\n",
    "y_train = np.log1p(df_train[\"median_house_value\"].values)\n",
    "y_val = np.log1p(df_val[\"median_house_value\"].values)\n",
    "y_test = np.log1p(df_test[\"median_house_value\"].values)"
   ]
  },
  {
   "cell_type": "code",
   "execution_count": 12,
   "id": "d74e092d-3ac0-4fec-abd1-c3a722bf5dd0",
   "metadata": {},
   "outputs": [],
   "source": [
    "#Remove target variable from dataframe\n",
    "del df_train[\"median_house_value\"]\n",
    "del df_val[\"median_house_value\"]\n",
    "del df_test[\"median_house_value\"]"
   ]
  },
  {
   "cell_type": "markdown",
   "id": "32240981-c605-4ff0-8725-0d46f32baa1c",
   "metadata": {},
   "source": [
    "**Question 3**"
   ]
  },
  {
   "cell_type": "code",
   "execution_count": 13,
   "id": "48f3cfcc-5177-48ce-8a0f-0e2c62f051cd",
   "metadata": {},
   "outputs": [],
   "source": [
    "#Define function to train linear regression\n",
    "def train_linear_regression(X, y):\n",
    "    ones = np.ones(X.shape[0])\n",
    "    X = np.column_stack([ones, X])\n",
    "\n",
    "    XTX = X.T.dot(X)\n",
    "    XTX_inv = np.linalg.inv(XTX)\n",
    "    w = XTX_inv.dot(X.T).dot(y)\n",
    "    \n",
    "    return w[0], w[1:]"
   ]
  },
  {
   "cell_type": "code",
   "execution_count": 27,
   "id": "93a14d19-14f7-476d-935c-3a97c7e93358",
   "metadata": {},
   "outputs": [],
   "source": [
    "#define function to calculate RMSE\n",
    "def rmse(y, y_pred):\n",
    "    error = y_pred - y\n",
    "    mse = (error ** 2).mean()\n",
    "    return np.sqrt(mse)"
   ]
  },
  {
   "cell_type": "code",
   "execution_count": 37,
   "id": "ea1f6859-d778-47cb-9f4c-8f820c96058d",
   "metadata": {},
   "outputs": [
    {
     "name": "stdout",
     "output_type": "stream",
     "text": [
      "0.33\n"
     ]
    }
   ],
   "source": [
    "#Fill missing values with zero and train model\n",
    "\n",
    "#Fill missing values\n",
    "df_train_zero = df_train.copy()\n",
    "df_train_zero[\"total_bedrooms\"].fillna(0, inplace=True)\n",
    "\n",
    "#Train Model\n",
    "w_0, w = train_linear_regression(df_train_zero, y_train)\n",
    "\n",
    "#RMSE\n",
    "df_val_zero = df_val.copy()\n",
    "df_val_zero[\"total_bedrooms\"].fillna(0, inplace=True)\n",
    "\n",
    "y_pred = w_0 + df_val_zero.dot(w)\n",
    "print(round(rmse(y_val, y_pred),2))"
   ]
  },
  {
   "cell_type": "code",
   "execution_count": 38,
   "id": "966b5e9e-0a51-49d8-b9ee-17ef83d829a6",
   "metadata": {},
   "outputs": [
    {
     "name": "stdout",
     "output_type": "stream",
     "text": [
      "0.33\n"
     ]
    }
   ],
   "source": [
    "#Fill missing values with mean and train model\n",
    "\n",
    "#Fill missing values\n",
    "df_train_mean = df_train.copy()\n",
    "df_train_mean[\"total_bedrooms\"].fillna(df_train_mean[\"total_bedrooms\"].mean(), inplace=True)\n",
    "\n",
    "#Train Model\n",
    "w_0, w = train_linear_regression(df_train_mean, y_train)\n",
    "\n",
    "#RMSE\n",
    "df_val_mean = df_val.copy()\n",
    "df_val_mean[\"total_bedrooms\"].fillna(df_train_mean[\"total_bedrooms\"], inplace=True)\n",
    "\n",
    "y_pred = w_0 + df_val_mean.dot(w)\n",
    "print(round(rmse(y_val, y_pred),2))"
   ]
  },
  {
   "cell_type": "markdown",
   "id": "07208c0c-7d27-4acb-af37-ea42c1e20352",
   "metadata": {},
   "source": [
    "**Question 4**"
   ]
  },
  {
   "cell_type": "code",
   "execution_count": 39,
   "id": "f7eece4b-11e5-4560-aea6-49960c573976",
   "metadata": {},
   "outputs": [],
   "source": [
    "#Define function to train linear regression with regularization\n",
    "def train_linear_regression_reg(X, y, r=0.0):\n",
    "    ones = np.ones(X.shape[0])\n",
    "    X = np.column_stack([ones, X])\n",
    "\n",
    "    XTX = X.T.dot(X)\n",
    "    reg = r * np.eye(XTX.shape[0])\n",
    "    XTX = XTX + reg\n",
    "\n",
    "    XTX_inv = np.linalg.inv(XTX)\n",
    "    w = XTX_inv.dot(X.T).dot(y)\n",
    "    \n",
    "    return w[0], w[1:]"
   ]
  },
  {
   "cell_type": "code",
   "execution_count": 43,
   "id": "f9f7c0b4-c4f5-491d-8eb5-ebb9f3ace2f5",
   "metadata": {},
   "outputs": [
    {
     "name": "stdout",
     "output_type": "stream",
     "text": [
      "r: 0 rmse: 0.33\n",
      "r: 1e-06 rmse: 0.33\n",
      "r: 0.0001 rmse: 0.33\n",
      "r: 0.001 rmse: 0.33\n",
      "r: 0.01 rmse: 0.33\n",
      "r: 0.1 rmse: 0.33\n",
      "r: 1 rmse: 0.33\n",
      "r: 5 rmse: 0.34\n",
      "r: 10 rmse: 0.34\n"
     ]
    }
   ],
   "source": [
    "#Prepare data\n",
    "df_train_zero = df_train.copy()\n",
    "df_train_zero[\"total_bedrooms\"].fillna(0, inplace=True)\n",
    "df_val_zero = df_val.copy()\n",
    "df_val_zero[\"total_bedrooms\"].fillna(0, inplace=True)\n",
    "\n",
    "#RMSE for different regularization parameters\n",
    "for r in [0, 0.000001, 0.0001, 0.001, 0.01, 0.1, 1, 5, 10]:\n",
    "    w_0, w = train_linear_regression_reg(df_train_zero, y_train, r=r)      \n",
    "    y_pred = w_0 + df_val_zero.dot(w)\n",
    "    print(\"r:\", r, \"rmse:\", round(rmse(y_val, y_pred),2))\n"
   ]
  },
  {
   "cell_type": "markdown",
   "id": "016d891d-4324-496d-ab9a-a90d08abff63",
   "metadata": {},
   "source": [
    "**Question 5**"
   ]
  },
  {
   "cell_type": "code",
   "execution_count": 50,
   "id": "ae605d6e-623d-4496-a8f9-0cb350db30fa",
   "metadata": {},
   "outputs": [
    {
     "name": "stdout",
     "output_type": "stream",
     "text": [
      "seed: 0 rmse: 0.339\n",
      "seed: 1 rmse: 0.336\n",
      "seed: 2 rmse: 0.332\n",
      "seed: 3 rmse: 0.34\n",
      "seed: 4 rmse: 0.339\n",
      "seed: 5 rmse: 0.343\n",
      "seed: 6 rmse: 0.345\n",
      "seed: 7 rmse: 0.339\n",
      "seed: 8 rmse: 0.346\n",
      "seed: 9 rmse: 0.336\n"
     ]
    },
    {
     "data": {
      "text/plain": [
       "0.004"
      ]
     },
     "execution_count": 50,
     "metadata": {},
     "output_type": "execute_result"
    }
   ],
   "source": [
    "#Set seed\n",
    "scores = []\n",
    "for s in [0, 1, 2, 3, 4, 5, 6, 7, 8, 9]:\n",
    "    \n",
    "    np.random.seed(s)\n",
    "\n",
    "    #Define set sizes\n",
    "    n = len(df)\n",
    "    n_val = int(0.2 * n)\n",
    "    n_test = int(0.2 * n)\n",
    "    n_train = n - (n_val + n_test)\n",
    "\n",
    "    #Shuffle dataset\n",
    "    idx = np.arange(n)\n",
    "    np.random.shuffle(idx)\n",
    "    df_shuffled = df.iloc[idx]\n",
    "\n",
    "    #Split data into train, validation and test sets\n",
    "    df_train = df_shuffled.iloc[:n_train].copy().reset_index()\n",
    "    df_val = df_shuffled.iloc[n_train:n_train+n_val].copy().reset_index()\n",
    "    df_test = df_shuffled.iloc[n_train+n_val:].copy().reset_index()\n",
    "\n",
    "    #Obtain dependent variable and apply log transformation\n",
    "    y_train = np.log1p(df_train[\"median_house_value\"].values)\n",
    "    y_val = np.log1p(df_val[\"median_house_value\"].values)\n",
    "    y_test = np.log1p(df_test[\"median_house_value\"].values)\n",
    "\n",
    "    #Remove target variable from dataframe\n",
    "    del df_train[\"median_house_value\"]\n",
    "    del df_val[\"median_house_value\"]\n",
    "    del df_test[\"median_house_value\"]\n",
    "\n",
    "    #Fill missing values\n",
    "    df_train_zero = df_train.copy()\n",
    "    df_train_zero[\"total_bedrooms\"].fillna(0, inplace=True)\n",
    "\n",
    "    #Train Model\n",
    "    w_0, w = train_linear_regression(df_train_zero, y_train)\n",
    "\n",
    "    #RMSE\n",
    "    df_val_zero = df_val.copy()\n",
    "    df_val_zero[\"total_bedrooms\"].fillna(0, inplace=True)\n",
    "\n",
    "    y_pred = w_0 + df_val_zero.dot(w)\n",
    "    scores.append(round(rmse(y_val, y_pred),3))\n",
    "    print(\"seed:\", s, \"rmse:\", round(rmse(y_val, y_pred),3))\n",
    "\n",
    "round(np.std(scores),3)\n"
   ]
  },
  {
   "cell_type": "markdown",
   "id": "dc66023f-147d-43ee-819e-d106d35fc2a5",
   "metadata": {},
   "source": [
    "**Question 6**"
   ]
  },
  {
   "cell_type": "code",
   "execution_count": 56,
   "id": "b61e8685-fbfc-44ea-b3dc-4123e7649674",
   "metadata": {},
   "outputs": [
    {
     "name": "stdout",
     "output_type": "stream",
     "text": [
      "0.3453346091765887\n"
     ]
    }
   ],
   "source": [
    "np.random.seed(9)\n",
    "\n",
    "#Define set sizes\n",
    "n = len(df)\n",
    "n_val = int(0.2 * n)\n",
    "n_test = int(0.2 * n)\n",
    "n_train = n - (n_val + n_test)\n",
    "\n",
    "#Shuffle dataset\n",
    "idx = np.arange(n)\n",
    "np.random.shuffle(idx)\n",
    "df_shuffled = df.iloc[idx]\n",
    "\n",
    "#Split data into train, validation and test sets\n",
    "df_train = df_shuffled.iloc[:n_train].copy().reset_index()\n",
    "df_val = df_shuffled.iloc[n_train:n_train+n_val].copy().reset_index()\n",
    "df_test = df_shuffled.iloc[n_train+n_val:].copy().reset_index()\n",
    "\n",
    "#Obtain dependent variable and apply log transformation\n",
    "y_train = np.log1p(df_train[\"median_house_value\"].values)\n",
    "y_val = np.log1p(df_val[\"median_house_value\"].values)\n",
    "y_test = np.log1p(df_test[\"median_house_value\"].values)\n",
    "\n",
    "#Remove target variable from dataframe\n",
    "del df_train[\"median_house_value\"]\n",
    "del df_val[\"median_house_value\"]\n",
    "del df_test[\"median_house_value\"]\n",
    "\n",
    "#Combine train and validation sets\n",
    "X = pd.concat([df_train, df_val])\n",
    "X_zero = X.copy()\n",
    "X_zero[\"total_bedrooms\"].fillna(0, inplace=True)\n",
    "\n",
    "y_full = np.concatenate((y_train, y_val))\n",
    "\n",
    "#Train regression with combined sets\n",
    "w_0, w = train_linear_regression_reg(X_zero, y_full, r=0.001)\n",
    "\n",
    "#RMSE\n",
    "df_test_zero = df_test.copy()\n",
    "df_test_zero[\"total_bedrooms\"].fillna(0, inplace=True)\n",
    "\n",
    "y_pred = w_0 + df_test_zero.dot(w)\n",
    "\n",
    "print(rmse(y_test, y_pred))\n"
   ]
  },
  {
   "cell_type": "code",
   "execution_count": null,
   "id": "c6c2f14a-fd41-4cfc-af79-fd8f07ab4cc3",
   "metadata": {},
   "outputs": [],
   "source": []
  }
 ],
 "metadata": {
  "kernelspec": {
   "display_name": "Python 3 (ipykernel)",
   "language": "python",
   "name": "python3"
  },
  "language_info": {
   "codemirror_mode": {
    "name": "ipython",
    "version": 3
   },
   "file_extension": ".py",
   "mimetype": "text/x-python",
   "name": "python",
   "nbconvert_exporter": "python",
   "pygments_lexer": "ipython3",
   "version": "3.10.6"
  }
 },
 "nbformat": 4,
 "nbformat_minor": 5
}
