{
 "cells": [
  {
   "cell_type": "markdown",
   "id": "8fb96725-d8e1-4fcf-a7e6-2afc1262e7b8",
   "metadata": {},
   "source": [
    "# ML Zoomcamp H8"
   ]
  },
  {
   "cell_type": "code",
   "execution_count": 1,
   "id": "a02b5683-edc1-4a90-8968-3a902cca6c3a",
   "metadata": {
    "execution": {
     "iopub.execute_input": "2022-11-21T23:16:26.167291Z",
     "iopub.status.busy": "2022-11-21T23:16:26.167026Z",
     "iopub.status.idle": "2022-11-21T23:16:28.681145Z",
     "shell.execute_reply": "2022-11-21T23:16:28.680355Z",
     "shell.execute_reply.started": "2022-11-21T23:16:26.167222Z"
    },
    "tags": []
   },
   "outputs": [
    {
     "name": "stderr",
     "output_type": "stream",
     "text": [
      "2022-11-21 23:16:26.975248: I tensorflow/core/util/util.cc:169] oneDNN custom operations are on. You may see slightly different numerical results due to floating-point round-off errors from different computation orders. To turn them off, set the environment variable `TF_ENABLE_ONEDNN_OPTS=0`.\n"
     ]
    }
   ],
   "source": [
    "#Import libraries\n",
    "import numpy as np\n",
    "import matplotlib.pyplot as plt\n",
    "import tensorflow as tf\n",
    "from tensorflow import keras"
   ]
  },
  {
   "cell_type": "code",
   "execution_count": 2,
   "id": "5108a6cb-29f5-4b60-9a0f-45c9e87b8a0a",
   "metadata": {
    "execution": {
     "iopub.execute_input": "2022-11-21T23:16:28.683568Z",
     "iopub.status.busy": "2022-11-21T23:16:28.682661Z",
     "iopub.status.idle": "2022-11-21T23:16:29.793387Z",
     "shell.execute_reply": "2022-11-21T23:16:29.792611Z",
     "shell.execute_reply.started": "2022-11-21T23:16:28.683532Z"
    },
    "tags": []
   },
   "outputs": [
    {
     "name": "stderr",
     "output_type": "stream",
     "text": [
      "2022-11-21 23:16:28.750533: I tensorflow/stream_executor/cuda/cuda_gpu_executor.cc:975] successful NUMA node read from SysFS had negative value (-1), but there must be at least one NUMA node, so returning NUMA node zero\n",
      "2022-11-21 23:16:28.758049: I tensorflow/stream_executor/cuda/cuda_gpu_executor.cc:975] successful NUMA node read from SysFS had negative value (-1), but there must be at least one NUMA node, so returning NUMA node zero\n",
      "2022-11-21 23:16:28.758695: I tensorflow/stream_executor/cuda/cuda_gpu_executor.cc:975] successful NUMA node read from SysFS had negative value (-1), but there must be at least one NUMA node, so returning NUMA node zero\n",
      "2022-11-21 23:16:28.759724: I tensorflow/core/platform/cpu_feature_guard.cc:193] This TensorFlow binary is optimized with oneAPI Deep Neural Network Library (oneDNN) to use the following CPU instructions in performance-critical operations:  AVX2 AVX512F AVX512_VNNI FMA\n",
      "To enable them in other operations, rebuild TensorFlow with the appropriate compiler flags.\n",
      "2022-11-21 23:16:28.760175: I tensorflow/stream_executor/cuda/cuda_gpu_executor.cc:975] successful NUMA node read from SysFS had negative value (-1), but there must be at least one NUMA node, so returning NUMA node zero\n",
      "2022-11-21 23:16:28.760808: I tensorflow/stream_executor/cuda/cuda_gpu_executor.cc:975] successful NUMA node read from SysFS had negative value (-1), but there must be at least one NUMA node, so returning NUMA node zero\n",
      "2022-11-21 23:16:28.761367: I tensorflow/stream_executor/cuda/cuda_gpu_executor.cc:975] successful NUMA node read from SysFS had negative value (-1), but there must be at least one NUMA node, so returning NUMA node zero\n",
      "2022-11-21 23:16:29.397680: I tensorflow/stream_executor/cuda/cuda_gpu_executor.cc:975] successful NUMA node read from SysFS had negative value (-1), but there must be at least one NUMA node, so returning NUMA node zero\n",
      "2022-11-21 23:16:29.398313: I tensorflow/stream_executor/cuda/cuda_gpu_executor.cc:975] successful NUMA node read from SysFS had negative value (-1), but there must be at least one NUMA node, so returning NUMA node zero\n",
      "2022-11-21 23:16:29.398864: I tensorflow/stream_executor/cuda/cuda_gpu_executor.cc:975] successful NUMA node read from SysFS had negative value (-1), but there must be at least one NUMA node, so returning NUMA node zero\n",
      "2022-11-21 23:16:29.399386: I tensorflow/core/common_runtime/gpu/gpu_device.cc:1532] Created device /job:localhost/replica:0/task:0/device:GPU:0 with 13795 MB memory:  -> device: 0, name: Tesla T4, pci bus id: 0000:00:1e.0, compute capability: 7.5\n"
     ]
    }
   ],
   "source": [
    "#Defining the model\n",
    "inputs = keras.Input(shape=(150, 150, 3))\n",
    "conv = keras.layers.Conv2D(filters=32, kernel_size=(3,3), activation=\"relu\", input_shape=(150,150,3))(inputs)\n",
    "feature = keras.layers.MaxPooling2D(pool_size=(2,2))(conv)\n",
    "flat = keras.layers.Flatten()(feature)\n",
    "dense = keras.layers.Dense(units=64, activation=\"relu\")(flat)\n",
    "outputs = keras.layers.Dense(units=1, activation=\"sigmoid\")(dense)\n",
    "model = keras.Model(inputs, outputs)"
   ]
  },
  {
   "cell_type": "code",
   "execution_count": 3,
   "id": "5b1194f5-0179-4580-b763-3ddcfbdaf227",
   "metadata": {
    "execution": {
     "iopub.execute_input": "2022-11-21T23:16:29.795261Z",
     "iopub.status.busy": "2022-11-21T23:16:29.794539Z",
     "iopub.status.idle": "2022-11-21T23:16:29.799159Z",
     "shell.execute_reply": "2022-11-21T23:16:29.798514Z",
     "shell.execute_reply.started": "2022-11-21T23:16:29.795227Z"
    },
    "tags": []
   },
   "outputs": [],
   "source": [
    "optimizer = keras.optimizers.SGD(learning_rate=0.002, momentum=0.8)"
   ]
  },
  {
   "cell_type": "markdown",
   "id": "3e955c29-82ab-44b9-b182-d98604b8bfd2",
   "metadata": {},
   "source": [
    "## Question 1"
   ]
  },
  {
   "cell_type": "code",
   "execution_count": 4,
   "id": "718d62dd-d3a4-4723-a8f2-1dfd5bf13a22",
   "metadata": {
    "execution": {
     "iopub.execute_input": "2022-11-21T23:16:29.800658Z",
     "iopub.status.busy": "2022-11-21T23:16:29.800161Z",
     "iopub.status.idle": "2022-11-21T23:16:29.804034Z",
     "shell.execute_reply": "2022-11-21T23:16:29.803374Z",
     "shell.execute_reply.started": "2022-11-21T23:16:29.800635Z"
    }
   },
   "outputs": [],
   "source": [
    "loss = keras.losses.BinaryCrossentropy(from_logits=False)"
   ]
  },
  {
   "cell_type": "markdown",
   "id": "0e3896dd-494e-46ff-b63b-78d43a2efdd2",
   "metadata": {},
   "source": [
    "## Question 2"
   ]
  },
  {
   "cell_type": "code",
   "execution_count": 5,
   "id": "9aa9e779-e92a-4fda-b3b3-e450f0248eca",
   "metadata": {
    "execution": {
     "iopub.execute_input": "2022-11-21T23:16:29.805149Z",
     "iopub.status.busy": "2022-11-21T23:16:29.804883Z",
     "iopub.status.idle": "2022-11-21T23:16:29.820560Z",
     "shell.execute_reply": "2022-11-21T23:16:29.819849Z",
     "shell.execute_reply.started": "2022-11-21T23:16:29.805130Z"
    },
    "tags": []
   },
   "outputs": [
    {
     "name": "stdout",
     "output_type": "stream",
     "text": [
      "Model: \"model\"\n",
      "_________________________________________________________________\n",
      " Layer (type)                Output Shape              Param #   \n",
      "=================================================================\n",
      " input_1 (InputLayer)        [(None, 150, 150, 3)]     0         \n",
      "                                                                 \n",
      " conv2d (Conv2D)             (None, 148, 148, 32)      896       \n",
      "                                                                 \n",
      " max_pooling2d (MaxPooling2D  (None, 74, 74, 32)       0         \n",
      " )                                                               \n",
      "                                                                 \n",
      " flatten (Flatten)           (None, 175232)            0         \n",
      "                                                                 \n",
      " dense (Dense)               (None, 64)                11214912  \n",
      "                                                                 \n",
      " dense_1 (Dense)             (None, 1)                 65        \n",
      "                                                                 \n",
      "=================================================================\n",
      "Total params: 11,215,873\n",
      "Trainable params: 11,215,873\n",
      "Non-trainable params: 0\n",
      "_________________________________________________________________\n"
     ]
    }
   ],
   "source": [
    "#Model parameters\n",
    "model.summary()"
   ]
  },
  {
   "cell_type": "markdown",
   "id": "cde82738-3414-42bc-8c34-0a3ef15bf970",
   "metadata": {},
   "source": [
    "## Question 3"
   ]
  },
  {
   "cell_type": "code",
   "execution_count": 6,
   "id": "027b1712-399e-4467-96a3-3fab184d0e4c",
   "metadata": {
    "execution": {
     "iopub.execute_input": "2022-11-21T23:16:29.822583Z",
     "iopub.status.busy": "2022-11-21T23:16:29.822311Z",
     "iopub.status.idle": "2022-11-21T23:16:29.825728Z",
     "shell.execute_reply": "2022-11-21T23:16:29.825073Z",
     "shell.execute_reply.started": "2022-11-21T23:16:29.822565Z"
    }
   },
   "outputs": [],
   "source": [
    "#Import data\n",
    "#!wget https://github.com/alexeygrigorev/dino-or-dragon/releases/download/data/dino-dragon.zip\n",
    "#!unzip dino-dragon.zip"
   ]
  },
  {
   "cell_type": "code",
   "execution_count": 7,
   "id": "3e99a78f-4136-43c0-9237-2ca065b958e0",
   "metadata": {
    "execution": {
     "iopub.execute_input": "2022-11-21T23:16:29.826760Z",
     "iopub.status.busy": "2022-11-21T23:16:29.826511Z",
     "iopub.status.idle": "2022-11-21T23:16:29.830784Z",
     "shell.execute_reply": "2022-11-21T23:16:29.830223Z",
     "shell.execute_reply.started": "2022-11-21T23:16:29.826741Z"
    },
    "tags": []
   },
   "outputs": [],
   "source": [
    "from tensorflow.keras.preprocessing.image import ImageDataGenerator"
   ]
  },
  {
   "cell_type": "code",
   "execution_count": 8,
   "id": "fd3106a8-ea7b-448b-8402-4178c8006523",
   "metadata": {
    "execution": {
     "iopub.execute_input": "2022-11-21T23:16:29.832049Z",
     "iopub.status.busy": "2022-11-21T23:16:29.831705Z",
     "iopub.status.idle": "2022-11-21T23:16:29.878575Z",
     "shell.execute_reply": "2022-11-21T23:16:29.877852Z",
     "shell.execute_reply.started": "2022-11-21T23:16:29.832020Z"
    },
    "tags": []
   },
   "outputs": [
    {
     "name": "stdout",
     "output_type": "stream",
     "text": [
      "Found 1594 images belonging to 2 classes.\n"
     ]
    }
   ],
   "source": [
    "#Training Set\n",
    "train_gen = ImageDataGenerator(rescale=1./255)\n",
    "\n",
    "train_ds = train_gen.flow_from_directory(\n",
    "    './train',\n",
    "    target_size=(150, 150),\n",
    "    batch_size=20,\n",
    "    class_mode=\"binary\",\n",
    "    shuffle=True\n",
    ")"
   ]
  },
  {
   "cell_type": "code",
   "execution_count": 9,
   "id": "c5b1049b-2f78-4431-8676-8cee0652779d",
   "metadata": {
    "execution": {
     "iopub.execute_input": "2022-11-21T23:16:29.879787Z",
     "iopub.status.busy": "2022-11-21T23:16:29.879484Z",
     "iopub.status.idle": "2022-11-21T23:16:29.896509Z",
     "shell.execute_reply": "2022-11-21T23:16:29.895867Z",
     "shell.execute_reply.started": "2022-11-21T23:16:29.879768Z"
    },
    "tags": []
   },
   "outputs": [
    {
     "name": "stdout",
     "output_type": "stream",
     "text": [
      "Found 394 images belonging to 2 classes.\n"
     ]
    }
   ],
   "source": [
    "#Validation Set\n",
    "test_gen = ImageDataGenerator(rescale=1./255)\n",
    "\n",
    "test_ds = test_gen.flow_from_directory(\n",
    "    './test',\n",
    "    target_size=(150, 150),\n",
    "    batch_size=20,\n",
    "    class_mode=\"binary\",\n",
    "    shuffle=True\n",
    ")"
   ]
  },
  {
   "cell_type": "code",
   "execution_count": 10,
   "id": "5c906a6d-3958-433c-ae5d-5351fcadbfa8",
   "metadata": {
    "execution": {
     "iopub.execute_input": "2022-11-21T23:16:29.897883Z",
     "iopub.status.busy": "2022-11-21T23:16:29.897502Z",
     "iopub.status.idle": "2022-11-21T23:16:29.908438Z",
     "shell.execute_reply": "2022-11-21T23:16:29.907894Z",
     "shell.execute_reply.started": "2022-11-21T23:16:29.897853Z"
    }
   },
   "outputs": [],
   "source": [
    "model.compile(\n",
    "    optimizer=optimizer,\n",
    "    loss=loss,\n",
    "    metrics=['accuracy']\n",
    ")"
   ]
  },
  {
   "cell_type": "code",
   "execution_count": 11,
   "id": "469160a2-4bfa-49ab-9d72-7f0a4b5dc01b",
   "metadata": {
    "execution": {
     "iopub.execute_input": "2022-11-21T23:16:29.909501Z",
     "iopub.status.busy": "2022-11-21T23:16:29.909228Z",
     "iopub.status.idle": "2022-11-21T23:17:57.339610Z",
     "shell.execute_reply": "2022-11-21T23:17:57.338928Z",
     "shell.execute_reply.started": "2022-11-21T23:16:29.909482Z"
    },
    "tags": []
   },
   "outputs": [
    {
     "name": "stdout",
     "output_type": "stream",
     "text": [
      "Epoch 1/10\n"
     ]
    },
    {
     "name": "stderr",
     "output_type": "stream",
     "text": [
      "2022-11-21 23:16:31.120421: I tensorflow/stream_executor/cuda/cuda_dnn.cc:384] Loaded cuDNN version 8100\n",
      "2022-11-21 23:16:31.751967: I tensorflow/core/platform/default/subprocess.cc:304] Start cannot spawn child process: No such file or directory\n",
      "2022-11-21 23:16:31.752884: I tensorflow/core/platform/default/subprocess.cc:304] Start cannot spawn child process: No such file or directory\n",
      "2022-11-21 23:16:31.752922: W tensorflow/stream_executor/gpu/asm_compiler.cc:80] Couldn't get ptxas version string: INTERNAL: Couldn't invoke ptxas --version\n",
      "2022-11-21 23:16:31.753878: I tensorflow/core/platform/default/subprocess.cc:304] Start cannot spawn child process: No such file or directory\n",
      "2022-11-21 23:16:31.753957: W tensorflow/stream_executor/gpu/redzone_allocator.cc:314] INTERNAL: Failed to launch ptxas\n",
      "Relying on driver to perform ptx compilation. \n",
      "Modify $PATH to customize ptxas location.\n",
      "This message will be only logged once.\n"
     ]
    },
    {
     "name": "stdout",
     "output_type": "stream",
     "text": [
      "80/80 [==============================] - 11s 108ms/step - loss: 0.5938 - accuracy: 0.6832 - val_loss: 0.5280 - val_accuracy: 0.6802\n",
      "Epoch 2/10\n",
      "80/80 [==============================] - 8s 106ms/step - loss: 0.4466 - accuracy: 0.8149 - val_loss: 0.4080 - val_accuracy: 0.8122\n",
      "Epoch 3/10\n",
      "80/80 [==============================] - 8s 106ms/step - loss: 0.3709 - accuracy: 0.8413 - val_loss: 0.4827 - val_accuracy: 0.7538\n",
      "Epoch 4/10\n",
      "80/80 [==============================] - 9s 106ms/step - loss: 0.3135 - accuracy: 0.8795 - val_loss: 0.3082 - val_accuracy: 0.8782\n",
      "Epoch 5/10\n",
      "80/80 [==============================] - 9s 106ms/step - loss: 0.2852 - accuracy: 0.8927 - val_loss: 0.3760 - val_accuracy: 0.8173\n",
      "Epoch 6/10\n",
      "80/80 [==============================] - 8s 106ms/step - loss: 0.2569 - accuracy: 0.9015 - val_loss: 0.2800 - val_accuracy: 0.8832\n",
      "Epoch 7/10\n",
      "80/80 [==============================] - 8s 106ms/step - loss: 0.2348 - accuracy: 0.9191 - val_loss: 0.2858 - val_accuracy: 0.8782\n",
      "Epoch 8/10\n",
      "80/80 [==============================] - 8s 106ms/step - loss: 0.2021 - accuracy: 0.9297 - val_loss: 0.3669 - val_accuracy: 0.8299\n",
      "Epoch 9/10\n",
      "80/80 [==============================] - 8s 105ms/step - loss: 0.1709 - accuracy: 0.9486 - val_loss: 0.3249 - val_accuracy: 0.8477\n",
      "Epoch 10/10\n",
      "80/80 [==============================] - 8s 105ms/step - loss: 0.1520 - accuracy: 0.9504 - val_loss: 0.2924 - val_accuracy: 0.8706\n"
     ]
    }
   ],
   "source": [
    "history = model.fit(\n",
    "    train_ds,\n",
    "    epochs=10,\n",
    "    validation_data=test_ds\n",
    ")"
   ]
  },
  {
   "cell_type": "code",
   "execution_count": 12,
   "id": "2c90ac4d-9eed-4140-ac2a-6800d2b7e95a",
   "metadata": {
    "execution": {
     "iopub.execute_input": "2022-11-21T23:17:57.341183Z",
     "iopub.status.busy": "2022-11-21T23:17:57.340716Z",
     "iopub.status.idle": "2022-11-21T23:17:57.345438Z",
     "shell.execute_reply": "2022-11-21T23:17:57.344793Z",
     "shell.execute_reply.started": "2022-11-21T23:17:57.341159Z"
    },
    "tags": []
   },
   "outputs": [
    {
     "name": "stdout",
     "output_type": "stream",
     "text": [
      "The median of training accuracy for all the epochs is: 0.8971141874790192\n"
     ]
    }
   ],
   "source": [
    "print(\"The median of training accuracy for all the epochs is:\", np.median(np.array(history.history[\"accuracy\"])))"
   ]
  },
  {
   "cell_type": "markdown",
   "id": "80c3b5a0-8751-4a71-8af6-dbb1ae0f6980",
   "metadata": {},
   "source": [
    "## Question 4"
   ]
  },
  {
   "cell_type": "code",
   "execution_count": 13,
   "id": "1ed414a6-209a-49a5-839e-97d34c04859f",
   "metadata": {
    "execution": {
     "iopub.execute_input": "2022-11-21T23:17:57.346630Z",
     "iopub.status.busy": "2022-11-21T23:17:57.346327Z",
     "iopub.status.idle": "2022-11-21T23:17:57.351388Z",
     "shell.execute_reply": "2022-11-21T23:17:57.350671Z",
     "shell.execute_reply.started": "2022-11-21T23:17:57.346610Z"
    },
    "tags": []
   },
   "outputs": [
    {
     "name": "stdout",
     "output_type": "stream",
     "text": [
      "The standard deviation of training loss for all the epochs is: 0.1293949688435097\n"
     ]
    }
   ],
   "source": [
    "print(\"The standard deviation of training loss for all the epochs is:\", np.std(np.array(history.history[\"loss\"])))"
   ]
  },
  {
   "cell_type": "code",
   "execution_count": 14,
   "id": "79155531-9e59-4e89-9382-04462c3b596e",
   "metadata": {
    "execution": {
     "iopub.execute_input": "2022-11-21T23:17:57.352566Z",
     "iopub.status.busy": "2022-11-21T23:17:57.352340Z",
     "iopub.status.idle": "2022-11-21T23:17:57.619417Z",
     "shell.execute_reply": "2022-11-21T23:17:57.618702Z",
     "shell.execute_reply.started": "2022-11-21T23:17:57.352545Z"
    }
   },
   "outputs": [],
   "source": [
    "#Save partly trained model\n",
    "model.save('model_V1.h5')"
   ]
  },
  {
   "cell_type": "markdown",
   "id": "5dc95b93-da1b-4550-9b6a-d78499d7143b",
   "metadata": {},
   "source": [
    "## Question 5"
   ]
  },
  {
   "cell_type": "code",
   "execution_count": 15,
   "id": "a62976eb-3646-496e-befd-20b73a2870c8",
   "metadata": {
    "execution": {
     "iopub.execute_input": "2022-11-21T23:17:57.621077Z",
     "iopub.status.busy": "2022-11-21T23:17:57.620430Z",
     "iopub.status.idle": "2022-11-21T23:17:57.678316Z",
     "shell.execute_reply": "2022-11-21T23:17:57.677580Z",
     "shell.execute_reply.started": "2022-11-21T23:17:57.621051Z"
    }
   },
   "outputs": [
    {
     "name": "stdout",
     "output_type": "stream",
     "text": [
      "Found 1594 images belonging to 2 classes.\n"
     ]
    }
   ],
   "source": [
    "#Augmented Training Set\n",
    "train_gen_aug = ImageDataGenerator(\n",
    "    rescale=1./255,\n",
    "    rotation_range=40,\n",
    "    width_shift_range=0.2,\n",
    "    height_shift_range=0.2,\n",
    "    shear_range=0.2,\n",
    "    zoom_range=0.2,\n",
    "    horizontal_flip=True,\n",
    "    fill_mode='nearest'\n",
    ")\n",
    "\n",
    "train_ds_aug = train_gen_aug.flow_from_directory(\n",
    "    './train',\n",
    "    target_size=(150, 150),\n",
    "    batch_size=20,\n",
    "    class_mode=\"binary\",\n",
    "    shuffle=True\n",
    ")"
   ]
  },
  {
   "cell_type": "code",
   "execution_count": 16,
   "id": "4eb2bd73-4f60-4876-9cb6-3d4aea491083",
   "metadata": {
    "execution": {
     "iopub.execute_input": "2022-11-21T23:17:57.679905Z",
     "iopub.status.busy": "2022-11-21T23:17:57.679494Z",
     "iopub.status.idle": "2022-11-21T23:17:57.697859Z",
     "shell.execute_reply": "2022-11-21T23:17:57.697199Z",
     "shell.execute_reply.started": "2022-11-21T23:17:57.679871Z"
    }
   },
   "outputs": [
    {
     "name": "stdout",
     "output_type": "stream",
     "text": [
      "Found 394 images belonging to 2 classes.\n"
     ]
    }
   ],
   "source": [
    "test_gen_aug = ImageDataGenerator(\n",
    "    rescale=1./255,\n",
    "    rotation_range=40,\n",
    "    width_shift_range=0.2,\n",
    "    height_shift_range=0.2,\n",
    "    shear_range=0.2,\n",
    "    zoom_range=0.2,\n",
    "    horizontal_flip=True,\n",
    "    fill_mode='nearest'\n",
    ")\n",
    "\n",
    "test_ds_aug = test_gen_aug.flow_from_directory(\n",
    "    './test',\n",
    "    target_size=(150, 150),\n",
    "    batch_size=20,\n",
    "    class_mode=\"binary\",\n",
    "    shuffle=True\n",
    ")"
   ]
  },
  {
   "cell_type": "code",
   "execution_count": 17,
   "id": "3dff6d2a-f9b0-4ed3-a0a7-a6d708242adf",
   "metadata": {
    "execution": {
     "iopub.execute_input": "2022-11-21T23:17:57.699360Z",
     "iopub.status.busy": "2022-11-21T23:17:57.698912Z",
     "iopub.status.idle": "2022-11-21T23:20:45.693445Z",
     "shell.execute_reply": "2022-11-21T23:20:45.692782Z",
     "shell.execute_reply.started": "2022-11-21T23:17:57.699327Z"
    },
    "tags": []
   },
   "outputs": [
    {
     "name": "stdout",
     "output_type": "stream",
     "text": [
      "Epoch 1/10\n",
      "80/80 [==============================] - 17s 211ms/step - loss: 0.4538 - accuracy: 0.7986 - val_loss: 0.4070 - val_accuracy: 0.8071\n",
      "Epoch 2/10\n",
      "80/80 [==============================] - 17s 209ms/step - loss: 0.4382 - accuracy: 0.7949 - val_loss: 0.3674 - val_accuracy: 0.8299\n",
      "Epoch 3/10\n",
      "80/80 [==============================] - 17s 210ms/step - loss: 0.4142 - accuracy: 0.8143 - val_loss: 0.3340 - val_accuracy: 0.8756\n",
      "Epoch 4/10\n",
      "80/80 [==============================] - 17s 209ms/step - loss: 0.3745 - accuracy: 0.8407 - val_loss: 0.3507 - val_accuracy: 0.8452\n",
      "Epoch 5/10\n",
      "80/80 [==============================] - 17s 208ms/step - loss: 0.3912 - accuracy: 0.8300 - val_loss: 0.3983 - val_accuracy: 0.8071\n",
      "Epoch 6/10\n",
      "80/80 [==============================] - 17s 208ms/step - loss: 0.3911 - accuracy: 0.8174 - val_loss: 0.3668 - val_accuracy: 0.8274\n",
      "Epoch 7/10\n",
      "80/80 [==============================] - 17s 209ms/step - loss: 0.3919 - accuracy: 0.8250 - val_loss: 0.3494 - val_accuracy: 0.8452\n",
      "Epoch 8/10\n",
      "80/80 [==============================] - 17s 211ms/step - loss: 0.3803 - accuracy: 0.8269 - val_loss: 0.3504 - val_accuracy: 0.8579\n",
      "Epoch 9/10\n",
      "80/80 [==============================] - 17s 208ms/step - loss: 0.3819 - accuracy: 0.8300 - val_loss: 0.3557 - val_accuracy: 0.8426\n",
      "Epoch 10/10\n",
      "80/80 [==============================] - 17s 209ms/step - loss: 0.3406 - accuracy: 0.8545 - val_loss: 0.3753 - val_accuracy: 0.8376\n"
     ]
    }
   ],
   "source": [
    "#Continue training previous model\n",
    "#Load partly trained model\n",
    "from keras.models import load_model\n",
    "model = load_model('model_V1.h5')\n",
    "history = model.fit(\n",
    "    train_ds_aug,\n",
    "    epochs=10,\n",
    "    validation_data=test_ds_aug\n",
    ")"
   ]
  },
  {
   "cell_type": "code",
   "execution_count": 18,
   "id": "14aa431f-aa0a-4287-af93-338367145e51",
   "metadata": {
    "execution": {
     "iopub.execute_input": "2022-11-21T23:20:45.696140Z",
     "iopub.status.busy": "2022-11-21T23:20:45.695851Z",
     "iopub.status.idle": "2022-11-21T23:20:45.699900Z",
     "shell.execute_reply": "2022-11-21T23:20:45.699291Z",
     "shell.execute_reply.started": "2022-11-21T23:20:45.696118Z"
    },
    "tags": []
   },
   "outputs": [
    {
     "name": "stdout",
     "output_type": "stream",
     "text": [
      "The mean test loss for all the epochs with augmentations is: 0.365505251288414\n"
     ]
    }
   ],
   "source": [
    "print(\"The mean test loss for all the epochs with augmentations is:\", \n",
    "      np.mean(np.array(history.history[\"val_loss\"])))"
   ]
  },
  {
   "cell_type": "markdown",
   "id": "75f7d70d-fae6-4ce3-a178-47125a32f594",
   "metadata": {},
   "source": [
    "## Question 6"
   ]
  },
  {
   "cell_type": "code",
   "execution_count": 19,
   "id": "b85e5902-7db1-4448-b048-bba16e38531b",
   "metadata": {
    "execution": {
     "iopub.execute_input": "2022-11-21T23:20:45.701331Z",
     "iopub.status.busy": "2022-11-21T23:20:45.700968Z",
     "iopub.status.idle": "2022-11-21T23:20:45.706228Z",
     "shell.execute_reply": "2022-11-21T23:20:45.705640Z",
     "shell.execute_reply.started": "2022-11-21T23:20:45.701301Z"
    },
    "tags": []
   },
   "outputs": [
    {
     "name": "stdout",
     "output_type": "stream",
     "text": [
      "The average test accuracy for the last five epochs is: 0.8421319723129272\n"
     ]
    }
   ],
   "source": [
    "l5_taccuracy = np.array(history.history[\"val_accuracy\"][5:10])\n",
    "print(\"The average test accuracy for the last five epochs is:\", \n",
    "      np.mean(l5_taccuracy))"
   ]
  }
 ],
 "metadata": {
  "kernelspec": {
   "display_name": "saturn (Python 3)",
   "language": "python",
   "name": "python3"
  },
  "language_info": {
   "codemirror_mode": {
    "name": "ipython",
    "version": 3
   },
   "file_extension": ".py",
   "mimetype": "text/x-python",
   "name": "python",
   "nbconvert_exporter": "python",
   "pygments_lexer": "ipython3",
   "version": "3.9.13"
  }
 },
 "nbformat": 4,
 "nbformat_minor": 5
}
