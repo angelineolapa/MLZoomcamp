{
 "cells": [
  {
   "cell_type": "markdown",
   "id": "09abcd34-612f-47aa-8429-1c71d501ef45",
   "metadata": {},
   "source": [
    "# ML Zoomcamp Homework 9"
   ]
  },
  {
   "cell_type": "code",
   "execution_count": 1,
   "id": "c90a1beb-f340-47ee-9fbc-bd8bf7f5101d",
   "metadata": {},
   "outputs": [],
   "source": [
    "#Download model trained in Homework 8\n",
    "\n",
    "#!wget https://github.com/SVizor42/ML_Zoomcamp/releases/download/dino-dragon-model/dino_dragon_10_0.899.h5"
   ]
  },
  {
   "cell_type": "markdown",
   "id": "515c9f8d-54de-4d6d-8b78-eaf04ca3e133",
   "metadata": {},
   "source": [
    "## Question 1"
   ]
  },
  {
   "cell_type": "code",
   "execution_count": 2,
   "id": "62d0f867-ca7c-4283-bd92-2b007c44274d",
   "metadata": {},
   "outputs": [
    {
     "name": "stderr",
     "output_type": "stream",
     "text": [
      "2022-11-29 03:25:39.809247: I tensorflow/core/platform/cpu_feature_guard.cc:193] This TensorFlow binary is optimized with oneAPI Deep Neural Network Library (oneDNN) to use the following CPU instructions in performance-critical operations:  AVX2 AVX512F AVX512_VNNI FMA\n",
      "To enable them in other operations, rebuild TensorFlow with the appropriate compiler flags.\n",
      "2022-11-29 03:25:39.996250: I tensorflow/core/util/port.cc:104] oneDNN custom operations are on. You may see slightly different numerical results due to floating-point round-off errors from different computation orders. To turn them off, set the environment variable `TF_ENABLE_ONEDNN_OPTS=0`.\n",
      "2022-11-29 03:25:40.001889: W tensorflow/compiler/xla/stream_executor/platform/default/dso_loader.cc:64] Could not load dynamic library 'libcudart.so.11.0'; dlerror: libcudart.so.11.0: cannot open shared object file: No such file or directory\n",
      "2022-11-29 03:25:40.001909: I tensorflow/compiler/xla/stream_executor/cuda/cudart_stub.cc:29] Ignore above cudart dlerror if you do not have a GPU set up on your machine.\n",
      "2022-11-29 03:25:40.616458: W tensorflow/compiler/xla/stream_executor/platform/default/dso_loader.cc:64] Could not load dynamic library 'libnvinfer.so.7'; dlerror: libnvinfer.so.7: cannot open shared object file: No such file or directory\n",
      "2022-11-29 03:25:40.616672: W tensorflow/compiler/xla/stream_executor/platform/default/dso_loader.cc:64] Could not load dynamic library 'libnvinfer_plugin.so.7'; dlerror: libnvinfer_plugin.so.7: cannot open shared object file: No such file or directory\n",
      "2022-11-29 03:25:40.616681: W tensorflow/compiler/tf2tensorrt/utils/py_utils.cc:38] TF-TRT Warning: Cannot dlopen some TensorRT libraries. If you would like to use Nvidia GPU with TensorRT, please make sure the missing libraries mentioned above are installed properly.\n"
     ]
    }
   ],
   "source": [
    "#Import libraries\n",
    "import numpy as np\n",
    "import tensorflow as tf\n",
    "from tensorflow import keras"
   ]
  },
  {
   "cell_type": "code",
   "execution_count": 3,
   "id": "e68a1d3d-0904-4689-b086-888a3f3e8a61",
   "metadata": {},
   "outputs": [
    {
     "name": "stderr",
     "output_type": "stream",
     "text": [
      "2022-11-29 03:25:41.428649: W tensorflow/compiler/xla/stream_executor/platform/default/dso_loader.cc:64] Could not load dynamic library 'libcuda.so.1'; dlerror: libcuda.so.1: cannot open shared object file: No such file or directory\n",
      "2022-11-29 03:25:41.428725: W tensorflow/compiler/xla/stream_executor/cuda/cuda_driver.cc:265] failed call to cuInit: UNKNOWN ERROR (303)\n",
      "2022-11-29 03:25:41.428743: I tensorflow/compiler/xla/stream_executor/cuda/cuda_diagnostics.cc:156] kernel driver does not appear to be running on this host (ef252fe8172d): /proc/driver/nvidia/version does not exist\n",
      "2022-11-29 03:25:41.428937: I tensorflow/core/platform/cpu_feature_guard.cc:193] This TensorFlow binary is optimized with oneAPI Deep Neural Network Library (oneDNN) to use the following CPU instructions in performance-critical operations:  AVX2 AVX512F AVX512_VNNI FMA\n",
      "To enable them in other operations, rebuild TensorFlow with the appropriate compiler flags.\n",
      "WARNING:absl:Found untraced functions such as _jit_compiled_convolution_op while saving (showing 1 of 1). These functions will not be directly callable after loading.\n"
     ]
    },
    {
     "name": "stdout",
     "output_type": "stream",
     "text": [
      "INFO:tensorflow:Assets written to: /tmp/tmp0vntenmm/assets\n"
     ]
    },
    {
     "name": "stderr",
     "output_type": "stream",
     "text": [
      "INFO:tensorflow:Assets written to: /tmp/tmp0vntenmm/assets\n",
      "2022-11-29 03:25:42.909515: W tensorflow/compiler/mlir/lite/python/tf_tfl_flatbuffer_helpers.cc:362] Ignored output_format.\n",
      "2022-11-29 03:25:42.909653: W tensorflow/compiler/mlir/lite/python/tf_tfl_flatbuffer_helpers.cc:365] Ignored drop_control_dependency.\n",
      "2022-11-29 03:25:42.911137: I tensorflow/cc/saved_model/reader.cc:45] Reading SavedModel from: /tmp/tmp0vntenmm\n",
      "2022-11-29 03:25:42.913945: I tensorflow/cc/saved_model/reader.cc:89] Reading meta graph with tags { serve }\n",
      "2022-11-29 03:25:42.914073: I tensorflow/cc/saved_model/reader.cc:130] Reading SavedModel debug info (if present) from: /tmp/tmp0vntenmm\n",
      "2022-11-29 03:25:42.918674: I tensorflow/compiler/mlir/mlir_graph_optimization_pass.cc:357] MLIR V1 optimization pass is not enabled\n",
      "2022-11-29 03:25:42.920219: I tensorflow/cc/saved_model/loader.cc:229] Restoring SavedModel bundle.\n",
      "2022-11-29 03:25:43.018914: I tensorflow/cc/saved_model/loader.cc:213] Running initialization op on SavedModel bundle at path: /tmp/tmp0vntenmm\n",
      "2022-11-29 03:25:43.027987: I tensorflow/cc/saved_model/loader.cc:305] SavedModel load for tags { serve }; Status: success: OK. Took 116897 microseconds.\n",
      "2022-11-29 03:25:43.048776: I tensorflow/compiler/mlir/tensorflow/utils/dump_mlir_util.cc:268] disabling MLIR crash reproducer, set env var `MLIR_CRASH_REPRODUCER_DIRECTORY` to enable.\n"
     ]
    }
   ],
   "source": [
    "#Load downloaded model\n",
    "\n",
    "model = keras.models.load_model(\"dino_dragon_10_0.899.h5\")\n",
    "\n",
    "#Convert model from Keras to TF-Lite format\n",
    "\n",
    "converter = tf.lite.TFLiteConverter.from_keras_model(model)\n",
    "\n",
    "tflite_model = converter.convert()\n",
    "\n",
    "#Export model in TF-Lite format\n",
    "\n",
    "with open(\"dino_dragon_model.tflite\", \"wb\") as f_out:\n",
    "    f_out.write(tflite_model)\n"
   ]
  },
  {
   "cell_type": "code",
   "execution_count": 4,
   "id": "b73058a6-b53d-4a3d-809d-ed512216806f",
   "metadata": {},
   "outputs": [
    {
     "name": "stdout",
     "output_type": "stream",
     "text": [
      "-rw-r--r-- 1 jovyan users 43M Nov 29 03:25 dino_dragon_model.tflite\n"
     ]
    }
   ],
   "source": [
    "#Obtain model file size\n",
    "\n",
    "!ls -lh \"dino_dragon_model.tflite\""
   ]
  },
  {
   "cell_type": "markdown",
   "id": "83455de9-53d2-4242-8732-6c5b6529ada3",
   "metadata": {},
   "source": [
    "## Question 2"
   ]
  },
  {
   "cell_type": "code",
   "execution_count": 5,
   "id": "b75f232b-ce73-44a7-8870-8b39931c1385",
   "metadata": {},
   "outputs": [
    {
     "name": "stderr",
     "output_type": "stream",
     "text": [
      "INFO: Created TensorFlow Lite XNNPACK delegate for CPU.\n"
     ]
    },
    {
     "data": {
      "text/plain": [
       "[{'name': 'StatefulPartitionedCall:0',\n",
       "  'index': 13,\n",
       "  'shape': array([1, 1], dtype=int32),\n",
       "  'shape_signature': array([-1,  1], dtype=int32),\n",
       "  'dtype': numpy.float32,\n",
       "  'quantization': (0.0, 0),\n",
       "  'quantization_parameters': {'scales': array([], dtype=float32),\n",
       "   'zero_points': array([], dtype=int32),\n",
       "   'quantized_dimension': 0},\n",
       "  'sparsity_parameters': {}}]"
      ]
     },
     "execution_count": 5,
     "metadata": {},
     "output_type": "execute_result"
    }
   ],
   "source": [
    "interpreter = tf.lite.Interpreter(model_path='dino_dragon_model.tflite')\n",
    "interpreter.allocate_tensors()\n",
    "\n",
    "#Obtain input details\n",
    "input_index = interpreter.get_input_details()\n",
    "\n",
    "#Obtain output details\n",
    "output_index = interpreter.get_output_details()\n",
    "output_index"
   ]
  },
  {
   "cell_type": "markdown",
   "id": "64000da3-6902-4699-93d0-ff45b166b3ad",
   "metadata": {},
   "source": [
    "## Question 3"
   ]
  },
  {
   "cell_type": "markdown",
   "id": "c9c77983-32b4-43ea-86eb-87f7f4c7a287",
   "metadata": {},
   "source": [
    "### Pre-processing with keras"
   ]
  },
  {
   "cell_type": "code",
   "execution_count": 6,
   "id": "005b426c-1df8-4bb8-bf09-e11e77b2c473",
   "metadata": {},
   "outputs": [],
   "source": [
    "from tensorflow.keras.preprocessing.image import load_img\n",
    "from tensorflow.keras.preprocessing.image import ImageDataGenerator"
   ]
  },
  {
   "cell_type": "code",
   "execution_count": 7,
   "id": "11e0620c-d398-44bc-9c11-bc8b123d72c4",
   "metadata": {},
   "outputs": [],
   "source": [
    "#Download image and resize\n",
    "#!wget https://upload.wikimedia.org/wikipedia/commons/thumb/d/df/Smaug_par_David_Demaret.jpg/1280px-Smaug_par_David_Demaret.jpg\n",
    "img = load_img('1280px-Smaug_par_David_Demaret.jpg', target_size=(150, 150))"
   ]
  },
  {
   "cell_type": "code",
   "execution_count": 8,
   "id": "545290eb-a993-46da-931b-9e9ba8292e3b",
   "metadata": {},
   "outputs": [
    {
     "name": "stdout",
     "output_type": "stream",
     "text": [
      "The value in the first pixel is: 0.5529412031173706\n"
     ]
    }
   ],
   "source": [
    "#Convert image to np array and preprocess\n",
    "x = np.array(img, dtype=\"float32\")\n",
    "X = np.array([x])\n",
    "X = np.divide(X, 255)\n",
    "\n",
    "print(f\"The value in the first pixel is: {X[0,0,0,0]}\")"
   ]
  },
  {
   "cell_type": "markdown",
   "id": "7f6adaa5-246e-45a7-8e96-2d33402fc795",
   "metadata": {},
   "source": [
    "### Pre-processing without keras"
   ]
  },
  {
   "cell_type": "code",
   "execution_count": 9,
   "id": "d953d916-4ec6-405d-9638-21663c363688",
   "metadata": {},
   "outputs": [],
   "source": [
    "from io import BytesIO\n",
    "from urllib import request\n",
    "from PIL import Image"
   ]
  },
  {
   "cell_type": "code",
   "execution_count": 10,
   "id": "28447cd0-ca7a-46bd-9b75-9f686ea44091",
   "metadata": {},
   "outputs": [],
   "source": [
    "#Functions to download, resize and rescale images \n",
    "\n",
    "def download_image(url):\n",
    "    with request.urlopen(url) as resp:\n",
    "        buffer = resp.read()\n",
    "    stream = BytesIO(buffer)\n",
    "    img = Image.open(stream)\n",
    "    return img\n",
    "\n",
    "def resize_image(img, target_size):\n",
    "    if img.mode != 'RGB':\n",
    "        img = img.convert('RGB')\n",
    "    img = img.resize(target_size, Image.NEAREST)\n",
    "    return img\n",
    "\n",
    "def preprocess_image(img):\n",
    "    x = np.array(img, dtype=\"float32\")\n",
    "    X = np.array([x])\n",
    "    X = np.divide(X, 255)\n",
    "    return X"
   ]
  },
  {
   "cell_type": "code",
   "execution_count": 11,
   "id": "cb26f35b-10f3-45c5-ba9e-7b7f376964a3",
   "metadata": {},
   "outputs": [
    {
     "name": "stdout",
     "output_type": "stream",
     "text": [
      "The value in the first pixel is: 0.5529412031173706\n"
     ]
    },
    {
     "name": "stderr",
     "output_type": "stream",
     "text": [
      "/tmp/ipykernel_4620/2323172328.py:13: DeprecationWarning: NEAREST is deprecated and will be removed in Pillow 10 (2023-07-01). Use Resampling.NEAREST or Dither.NONE instead.\n",
      "  img = img.resize(target_size, Image.NEAREST)\n"
     ]
    }
   ],
   "source": [
    "#Download and pre-process image\n",
    "\n",
    "url = \"https://upload.wikimedia.org/wikipedia/commons/thumb/d/df/Smaug_par_David_Demaret.jpg/1280px-Smaug_par_David_Demaret.jpg\"\n",
    "img = download_image(url)\n",
    "img = resize_image(img, (150,150))\n",
    "X = preprocess_image(img)\n",
    "\n",
    "print(f\"The value in the first pixel is: {X[0,0,0,0]}\")"
   ]
  },
  {
   "cell_type": "markdown",
   "id": "e1edff72-1205-421e-ac64-5bde90b073a2",
   "metadata": {},
   "source": [
    "## Question 4"
   ]
  },
  {
   "cell_type": "code",
   "execution_count": 12,
   "id": "e440208f-afb3-4acf-9b52-9d621e4fccd0",
   "metadata": {},
   "outputs": [
    {
     "name": "stdout",
     "output_type": "stream",
     "text": [
      "1/1 [==============================] - 0s 325ms/step\n"
     ]
    },
    {
     "data": {
      "text/plain": [
       "array([[0.8244861]], dtype=float32)"
      ]
     },
     "execution_count": 12,
     "metadata": {},
     "output_type": "execute_result"
    }
   ],
   "source": [
    "#Apply original model to image\n",
    "\n",
    "prediction = model.predict(X)\n",
    "prediction"
   ]
  },
  {
   "cell_type": "code",
   "execution_count": 13,
   "id": "824adc15-6c9e-4301-86d9-b496a0e2b014",
   "metadata": {},
   "outputs": [
    {
     "data": {
      "text/plain": [
       "array([[0.82448614]], dtype=float32)"
      ]
     },
     "execution_count": 13,
     "metadata": {},
     "output_type": "execute_result"
    }
   ],
   "source": [
    "#Apply tflite model to image\n",
    "\n",
    "interpreter.set_tensor(input_index[0][\"index\"], X)\n",
    "interpreter.invoke()\n",
    "prediction = interpreter.get_tensor(output_index[0][\"index\"])\n",
    "\n",
    "prediction"
   ]
  },
  {
   "cell_type": "markdown",
   "id": "51424e16-c288-4c19-9c71-806df8bbd562",
   "metadata": {},
   "source": [
    "# Question 5"
   ]
  },
  {
   "cell_type": "markdown",
   "id": "b75b38dc-583d-458e-a202-12992165d2be",
   "metadata": {},
   "source": [
    "**On terminal:**\n",
    "* docker pull svizor42/zoomcamp-dino-dragon-lambda:v2\n",
    "* docker images"
   ]
  },
  {
   "cell_type": "markdown",
   "id": "1b6efdfe-64e7-44ab-aa70-760d2b30ee26",
   "metadata": {},
   "source": [
    "# Question 6"
   ]
  },
  {
   "cell_type": "code",
   "execution_count": 14,
   "id": "2e09f902-286f-44c6-b7a4-56f26232a885",
   "metadata": {},
   "outputs": [],
   "source": [
    "def predict(url):\n",
    "    img = download_image(url)\n",
    "    img = resize_image(img, (150,150))\n",
    "    X = preprocess_image(img)\n",
    "\n",
    "    interpreter.set_tensor(input_index, X)\n",
    "    interpreter.invoke()\n",
    "    prediction = interpreter.get_tensor(output_index)\n",
    "  \n",
    "    return float(prediction[0,0])\n",
    "\n",
    "def lambda_handler(event, context):\n",
    "    url = event[\"url\"]\n",
    "    pred = predict(url)\n",
    "    result = pred\n",
    "    return result"
   ]
  }
 ],
 "metadata": {
  "kernelspec": {
   "display_name": "Python 3 (ipykernel)",
   "language": "python",
   "name": "python3"
  },
  "language_info": {
   "codemirror_mode": {
    "name": "ipython",
    "version": 3
   },
   "file_extension": ".py",
   "mimetype": "text/x-python",
   "name": "python",
   "nbconvert_exporter": "python",
   "pygments_lexer": "ipython3",
   "version": "3.10.6"
  }
 },
 "nbformat": 4,
 "nbformat_minor": 5
}
