{
 "cells": [
  {
   "cell_type": "markdown",
   "id": "87719157-5157-4631-ba6e-699baf6a705f",
   "metadata": {},
   "source": [
    "**MLZoomcamp Homework 4**"
   ]
  },
  {
   "cell_type": "code",
   "execution_count": 1,
   "id": "d110c57d-8031-4766-b956-5073eb64bcb1",
   "metadata": {},
   "outputs": [],
   "source": [
    "#Import libraries\n",
    "import pandas as pd\n",
    "import numpy as np\n",
    "import matplotlib.pyplot as plt\n",
    "\n",
    "from sklearn.model_selection import train_test_split\n",
    "from sklearn.feature_extraction import DictVectorizer\n",
    "from sklearn.linear_model import LogisticRegression"
   ]
  },
  {
   "cell_type": "code",
   "execution_count": 2,
   "id": "1ce3862e-7a2f-4d0b-9b01-b9cdd4a21162",
   "metadata": {},
   "outputs": [
    {
     "name": "stdout",
     "output_type": "stream",
     "text": [
      "--2022-10-04 03:46:23--  https://raw.githubusercontent.com/alexeygrigorev/datasets/master/AER_credit_card_data.csv\n",
      "Resolving raw.githubusercontent.com (raw.githubusercontent.com)... 185.199.109.133, 185.199.111.133, 185.199.108.133, ...\n",
      "Connecting to raw.githubusercontent.com (raw.githubusercontent.com)|185.199.109.133|:443... connected.\n",
      "HTTP request sent, awaiting response... 200 OK\n",
      "Length: 73250 (72K) [text/plain]\n",
      "Saving to: ‘AER_credit_card_data.csv.1’\n",
      "\n",
      "AER_credit_card_dat 100%[===================>]  71.53K  --.-KB/s    in 0.02s   \n",
      "\n",
      "2022-10-04 03:46:24 (2.98 MB/s) - ‘AER_credit_card_data.csv.1’ saved [73250/73250]\n",
      "\n"
     ]
    }
   ],
   "source": [
    "#Import dataset\n",
    "!wget https://raw.githubusercontent.com/alexeygrigorev/datasets/master/AER_credit_card_data.csv"
   ]
  },
  {
   "cell_type": "code",
   "execution_count": 3,
   "id": "ce8b14e0-a4d4-4ffd-8c6c-1e8faeb813d4",
   "metadata": {},
   "outputs": [],
   "source": [
    "df_credit = pd.read_csv(\"AER_credit_card_data.csv\")"
   ]
  },
  {
   "cell_type": "code",
   "execution_count": 4,
   "id": "94939704-6191-4384-ba92-5674d4590a7a",
   "metadata": {},
   "outputs": [
    {
     "name": "stdout",
     "output_type": "stream",
     "text": [
      "<class 'pandas.core.frame.DataFrame'>\n",
      "RangeIndex: 1319 entries, 0 to 1318\n",
      "Data columns (total 12 columns):\n",
      " #   Column       Non-Null Count  Dtype  \n",
      "---  ------       --------------  -----  \n",
      " 0   card         1319 non-null   object \n",
      " 1   reports      1319 non-null   int64  \n",
      " 2   age          1319 non-null   float64\n",
      " 3   income       1319 non-null   float64\n",
      " 4   share        1319 non-null   float64\n",
      " 5   expenditure  1319 non-null   float64\n",
      " 6   owner        1319 non-null   object \n",
      " 7   selfemp      1319 non-null   object \n",
      " 8   dependents   1319 non-null   int64  \n",
      " 9   months       1319 non-null   int64  \n",
      " 10  majorcards   1319 non-null   int64  \n",
      " 11  active       1319 non-null   int64  \n",
      "dtypes: float64(4), int64(5), object(3)\n",
      "memory usage: 123.8+ KB\n"
     ]
    }
   ],
   "source": [
    "#Initial exploration of the data\n",
    "df_credit.info()"
   ]
  },
  {
   "cell_type": "code",
   "execution_count": 5,
   "id": "629d088e-f155-4f9c-83dd-59e29d987400",
   "metadata": {},
   "outputs": [
    {
     "data": {
      "text/html": [
       "<div>\n",
       "<style scoped>\n",
       "    .dataframe tbody tr th:only-of-type {\n",
       "        vertical-align: middle;\n",
       "    }\n",
       "\n",
       "    .dataframe tbody tr th {\n",
       "        vertical-align: top;\n",
       "    }\n",
       "\n",
       "    .dataframe thead th {\n",
       "        text-align: right;\n",
       "    }\n",
       "</style>\n",
       "<table border=\"1\" class=\"dataframe\">\n",
       "  <thead>\n",
       "    <tr style=\"text-align: right;\">\n",
       "      <th></th>\n",
       "      <th>card</th>\n",
       "      <th>reports</th>\n",
       "      <th>age</th>\n",
       "      <th>income</th>\n",
       "      <th>share</th>\n",
       "      <th>expenditure</th>\n",
       "      <th>owner</th>\n",
       "      <th>selfemp</th>\n",
       "      <th>dependents</th>\n",
       "      <th>months</th>\n",
       "      <th>majorcards</th>\n",
       "      <th>active</th>\n",
       "    </tr>\n",
       "  </thead>\n",
       "  <tbody>\n",
       "    <tr>\n",
       "      <th>0</th>\n",
       "      <td>yes</td>\n",
       "      <td>0</td>\n",
       "      <td>37.66667</td>\n",
       "      <td>4.5200</td>\n",
       "      <td>0.033270</td>\n",
       "      <td>124.983300</td>\n",
       "      <td>yes</td>\n",
       "      <td>no</td>\n",
       "      <td>3</td>\n",
       "      <td>54</td>\n",
       "      <td>1</td>\n",
       "      <td>12</td>\n",
       "    </tr>\n",
       "    <tr>\n",
       "      <th>1</th>\n",
       "      <td>yes</td>\n",
       "      <td>0</td>\n",
       "      <td>33.25000</td>\n",
       "      <td>2.4200</td>\n",
       "      <td>0.005217</td>\n",
       "      <td>9.854167</td>\n",
       "      <td>no</td>\n",
       "      <td>no</td>\n",
       "      <td>3</td>\n",
       "      <td>34</td>\n",
       "      <td>1</td>\n",
       "      <td>13</td>\n",
       "    </tr>\n",
       "    <tr>\n",
       "      <th>2</th>\n",
       "      <td>yes</td>\n",
       "      <td>0</td>\n",
       "      <td>33.66667</td>\n",
       "      <td>4.5000</td>\n",
       "      <td>0.004156</td>\n",
       "      <td>15.000000</td>\n",
       "      <td>yes</td>\n",
       "      <td>no</td>\n",
       "      <td>4</td>\n",
       "      <td>58</td>\n",
       "      <td>1</td>\n",
       "      <td>5</td>\n",
       "    </tr>\n",
       "    <tr>\n",
       "      <th>3</th>\n",
       "      <td>yes</td>\n",
       "      <td>0</td>\n",
       "      <td>30.50000</td>\n",
       "      <td>2.5400</td>\n",
       "      <td>0.065214</td>\n",
       "      <td>137.869200</td>\n",
       "      <td>no</td>\n",
       "      <td>no</td>\n",
       "      <td>0</td>\n",
       "      <td>25</td>\n",
       "      <td>1</td>\n",
       "      <td>7</td>\n",
       "    </tr>\n",
       "    <tr>\n",
       "      <th>4</th>\n",
       "      <td>yes</td>\n",
       "      <td>0</td>\n",
       "      <td>32.16667</td>\n",
       "      <td>9.7867</td>\n",
       "      <td>0.067051</td>\n",
       "      <td>546.503300</td>\n",
       "      <td>yes</td>\n",
       "      <td>no</td>\n",
       "      <td>2</td>\n",
       "      <td>64</td>\n",
       "      <td>1</td>\n",
       "      <td>5</td>\n",
       "    </tr>\n",
       "  </tbody>\n",
       "</table>\n",
       "</div>"
      ],
      "text/plain": [
       "  card  reports       age  income     share  expenditure owner selfemp  \\\n",
       "0  yes        0  37.66667  4.5200  0.033270   124.983300   yes      no   \n",
       "1  yes        0  33.25000  2.4200  0.005217     9.854167    no      no   \n",
       "2  yes        0  33.66667  4.5000  0.004156    15.000000   yes      no   \n",
       "3  yes        0  30.50000  2.5400  0.065214   137.869200    no      no   \n",
       "4  yes        0  32.16667  9.7867  0.067051   546.503300   yes      no   \n",
       "\n",
       "   dependents  months  majorcards  active  \n",
       "0           3      54           1      12  \n",
       "1           3      34           1      13  \n",
       "2           4      58           1       5  \n",
       "3           0      25           1       7  \n",
       "4           2      64           1       5  "
      ]
     },
     "execution_count": 5,
     "metadata": {},
     "output_type": "execute_result"
    }
   ],
   "source": [
    "df_credit.head()"
   ]
  },
  {
   "cell_type": "code",
   "execution_count": 6,
   "id": "b6098ac4-a173-4fff-bc4d-687a088d2398",
   "metadata": {},
   "outputs": [],
   "source": [
    "categorical_columns = list(df_credit.dtypes[df_credit.dtypes == 'object'].index)\n",
    "numerical_columns = list(df_credit.dtypes[df_credit.dtypes != 'object'].index)"
   ]
  },
  {
   "cell_type": "code",
   "execution_count": 7,
   "id": "b9fd1718-3fd8-4bcc-b5f0-979725d5d53d",
   "metadata": {},
   "outputs": [],
   "source": [
    "#Create target variable\n",
    "df_credit[\"card_target\"] = (df_credit[\"card\"] == 'yes').astype(int)"
   ]
  },
  {
   "cell_type": "code",
   "execution_count": 8,
   "id": "f3b515f8-9c2e-4db7-9929-6393bda03aa9",
   "metadata": {},
   "outputs": [],
   "source": [
    "#Split dataset in train, validation and test sets\n",
    "\n",
    "df_credit_full_train, df_credit_test = train_test_split(df_credit, test_size=0.2, random_state=1)\n",
    "df_credit_train, df_credit_val = train_test_split(df_credit_full_train, test_size=0.25, random_state=1)\n",
    "\n",
    "df_credit_train = df_credit_train.reset_index(drop=True)\n",
    "df_credit_val = df_credit_val.reset_index(drop=True)\n",
    "df_credit_test = df_credit_test.reset_index(drop=True)\n",
    "\n",
    "y_train = df_credit_train.card_target.values\n",
    "y_val = df_credit_val.card_target.values\n",
    "y_test = df_credit_test.card_target.values"
   ]
  },
  {
   "cell_type": "markdown",
   "id": "b4d0f401-c9c1-46a9-8369-11e9faec1323",
   "metadata": {},
   "source": [
    "**Question 1**"
   ]
  },
  {
   "cell_type": "code",
   "execution_count": 9,
   "id": "e8caf592-ef2a-440d-a6ba-3ba12e64debb",
   "metadata": {},
   "outputs": [
    {
     "name": "stdout",
     "output_type": "stream",
     "text": [
      "For variable reports  AUC is 0.28333701393106236\n",
      "For variable age  AUC is 0.4759979020592945\n",
      "For variable income  AUC is 0.5908049467233478\n",
      "For variable share  AUC is 0.989183643423692\n",
      "For variable expenditure  AUC is 0.991042345276873\n",
      "For variable dependents  AUC is 0.46722427722262094\n",
      "For variable months  AUC is 0.470578221903237\n",
      "For variable majorcards  AUC is 0.5343859842838476\n",
      "For variable active  AUC is 0.6043173411362006\n"
     ]
    }
   ],
   "source": [
    "from sklearn.metrics import roc_auc_score\n",
    "\n",
    "for var in numerical_columns:\n",
    "    auc = roc_auc_score(y_train, df_credit_train[var])\n",
    "    print(\"For variable\", var, \" AUC is\", auc)\n",
    "    "
   ]
  },
  {
   "cell_type": "code",
   "execution_count": 10,
   "id": "cb527a49-1ad7-4f24-8099-e04a09fa7d62",
   "metadata": {},
   "outputs": [
    {
     "name": "stdout",
     "output_type": "stream",
     "text": [
      "For variable reports  AUC is 0.7166629860689376\n",
      "For variable age  AUC is 0.5240020979407055\n",
      "For variable dependents  AUC is 0.5327757227773791\n",
      "For variable months  AUC is 0.5294217780967629\n"
     ]
    }
   ],
   "source": [
    "#Repeat for AUC<0.5\n",
    "for var in [\"reports\", \"age\", \"dependents\", \"months\"]:\n",
    "    auc = roc_auc_score(y_train, -df_credit_train[var])\n",
    "    print(\"For variable\", var, \" AUC is\", auc)"
   ]
  },
  {
   "cell_type": "markdown",
   "id": "2c04afcc-0262-4515-a38f-e13660fb740a",
   "metadata": {},
   "source": [
    "**Question 2**"
   ]
  },
  {
   "cell_type": "code",
   "execution_count": 11,
   "id": "b7fc4688-f59f-41eb-8bf0-ddfcfb3c4c52",
   "metadata": {},
   "outputs": [],
   "source": [
    "#Select variables of interest\n",
    "selected_features = [\"reports\", \"age\", \"income\", \"share\", \"expenditure\", \"dependents\", \"months\", \"majorcards\", \"active\", \"owner\", \"selfemp\"]"
   ]
  },
  {
   "cell_type": "code",
   "execution_count": 12,
   "id": "39d44eee-8951-41a0-9135-ab27ac8fad56",
   "metadata": {},
   "outputs": [
    {
     "data": {
      "text/plain": [
       "Index(['reports', 'age', 'income', 'share', 'expenditure', 'dependents',\n",
       "       'months', 'majorcards', 'active', 'owner', 'selfemp'],\n",
       "      dtype='object')"
      ]
     },
     "execution_count": 12,
     "metadata": {},
     "output_type": "execute_result"
    }
   ],
   "source": [
    "df_credit_train = df_credit_train[selected_features]\n",
    "df_credit_val = df_credit_val[selected_features]\n",
    "df_credit_test = df_credit_test[selected_features]"
   ]
  },
  {
   "cell_type": "code",
   "execution_count": 13,
   "id": "cfa5d86c-0bbd-444a-b64c-26dd9addaf6d",
   "metadata": {},
   "outputs": [],
   "source": [
    "#Apply one-hot-encoding using DictVectorizer\n",
    "dv = DictVectorizer(sparse=False)\n",
    "\n",
    "train_dict = df_credit_train.to_dict(orient='records')\n",
    "X_train = dv.fit_transform(train_dict)"
   ]
  },
  {
   "cell_type": "code",
   "execution_count": 14,
   "id": "24fd087f-b227-4ad6-ae0e-a56792b03434",
   "metadata": {},
   "outputs": [
    {
     "data": {
      "text/html": [
       "<style>#sk-container-id-1 {color: black;background-color: white;}#sk-container-id-1 pre{padding: 0;}#sk-container-id-1 div.sk-toggleable {background-color: white;}#sk-container-id-1 label.sk-toggleable__label {cursor: pointer;display: block;width: 100%;margin-bottom: 0;padding: 0.3em;box-sizing: border-box;text-align: center;}#sk-container-id-1 label.sk-toggleable__label-arrow:before {content: \"▸\";float: left;margin-right: 0.25em;color: #696969;}#sk-container-id-1 label.sk-toggleable__label-arrow:hover:before {color: black;}#sk-container-id-1 div.sk-estimator:hover label.sk-toggleable__label-arrow:before {color: black;}#sk-container-id-1 div.sk-toggleable__content {max-height: 0;max-width: 0;overflow: hidden;text-align: left;background-color: #f0f8ff;}#sk-container-id-1 div.sk-toggleable__content pre {margin: 0.2em;color: black;border-radius: 0.25em;background-color: #f0f8ff;}#sk-container-id-1 input.sk-toggleable__control:checked~div.sk-toggleable__content {max-height: 200px;max-width: 100%;overflow: auto;}#sk-container-id-1 input.sk-toggleable__control:checked~label.sk-toggleable__label-arrow:before {content: \"▾\";}#sk-container-id-1 div.sk-estimator input.sk-toggleable__control:checked~label.sk-toggleable__label {background-color: #d4ebff;}#sk-container-id-1 div.sk-label input.sk-toggleable__control:checked~label.sk-toggleable__label {background-color: #d4ebff;}#sk-container-id-1 input.sk-hidden--visually {border: 0;clip: rect(1px 1px 1px 1px);clip: rect(1px, 1px, 1px, 1px);height: 1px;margin: -1px;overflow: hidden;padding: 0;position: absolute;width: 1px;}#sk-container-id-1 div.sk-estimator {font-family: monospace;background-color: #f0f8ff;border: 1px dotted black;border-radius: 0.25em;box-sizing: border-box;margin-bottom: 0.5em;}#sk-container-id-1 div.sk-estimator:hover {background-color: #d4ebff;}#sk-container-id-1 div.sk-parallel-item::after {content: \"\";width: 100%;border-bottom: 1px solid gray;flex-grow: 1;}#sk-container-id-1 div.sk-label:hover label.sk-toggleable__label {background-color: #d4ebff;}#sk-container-id-1 div.sk-serial::before {content: \"\";position: absolute;border-left: 1px solid gray;box-sizing: border-box;top: 0;bottom: 0;left: 50%;z-index: 0;}#sk-container-id-1 div.sk-serial {display: flex;flex-direction: column;align-items: center;background-color: white;padding-right: 0.2em;padding-left: 0.2em;position: relative;}#sk-container-id-1 div.sk-item {position: relative;z-index: 1;}#sk-container-id-1 div.sk-parallel {display: flex;align-items: stretch;justify-content: center;background-color: white;position: relative;}#sk-container-id-1 div.sk-item::before, #sk-container-id-1 div.sk-parallel-item::before {content: \"\";position: absolute;border-left: 1px solid gray;box-sizing: border-box;top: 0;bottom: 0;left: 50%;z-index: -1;}#sk-container-id-1 div.sk-parallel-item {display: flex;flex-direction: column;z-index: 1;position: relative;background-color: white;}#sk-container-id-1 div.sk-parallel-item:first-child::after {align-self: flex-end;width: 50%;}#sk-container-id-1 div.sk-parallel-item:last-child::after {align-self: flex-start;width: 50%;}#sk-container-id-1 div.sk-parallel-item:only-child::after {width: 0;}#sk-container-id-1 div.sk-dashed-wrapped {border: 1px dashed gray;margin: 0 0.4em 0.5em 0.4em;box-sizing: border-box;padding-bottom: 0.4em;background-color: white;}#sk-container-id-1 div.sk-label label {font-family: monospace;font-weight: bold;display: inline-block;line-height: 1.2em;}#sk-container-id-1 div.sk-label-container {text-align: center;}#sk-container-id-1 div.sk-container {/* jupyter's `normalize.less` sets `[hidden] { display: none; }` but bootstrap.min.css set `[hidden] { display: none !important; }` so we also need the `!important` here to be able to override the default hidden behavior on the sphinx rendered scikit-learn.org. See: https://github.com/scikit-learn/scikit-learn/issues/21755 */display: inline-block !important;position: relative;}#sk-container-id-1 div.sk-text-repr-fallback {display: none;}</style><div id=\"sk-container-id-1\" class=\"sk-top-container\"><div class=\"sk-text-repr-fallback\"><pre>LogisticRegression(max_iter=1000, solver=&#x27;liblinear&#x27;)</pre><b>In a Jupyter environment, please rerun this cell to show the HTML representation or trust the notebook. <br />On GitHub, the HTML representation is unable to render, please try loading this page with nbviewer.org.</b></div><div class=\"sk-container\" hidden><div class=\"sk-item\"><div class=\"sk-estimator sk-toggleable\"><input class=\"sk-toggleable__control sk-hidden--visually\" id=\"sk-estimator-id-1\" type=\"checkbox\" checked><label for=\"sk-estimator-id-1\" class=\"sk-toggleable__label sk-toggleable__label-arrow\">LogisticRegression</label><div class=\"sk-toggleable__content\"><pre>LogisticRegression(max_iter=1000, solver=&#x27;liblinear&#x27;)</pre></div></div></div></div></div>"
      ],
      "text/plain": [
       "LogisticRegression(max_iter=1000, solver='liblinear')"
      ]
     },
     "execution_count": 14,
     "metadata": {},
     "output_type": "execute_result"
    }
   ],
   "source": [
    "#Fit logistic regression model\n",
    "model = LogisticRegression(solver='liblinear', C=1.0, max_iter=1000)\n",
    "model.fit(X_train, y_train)"
   ]
  },
  {
   "cell_type": "code",
   "execution_count": 15,
   "id": "8f7a30f1-1c2f-43b0-8481-d3d51ed3a100",
   "metadata": {},
   "outputs": [
    {
     "data": {
      "text/plain": [
       "0.995"
      ]
     },
     "execution_count": 15,
     "metadata": {},
     "output_type": "execute_result"
    }
   ],
   "source": [
    "#Calculate AUC \n",
    "val_dict = df_credit_val.to_dict(orient='records')\n",
    "X_val = dv.transform(val_dict)\n",
    "y_val_pred = model.predict_proba(X_val)[:,1]\n",
    "round(roc_auc_score(y_val, y_val_pred),3)"
   ]
  },
  {
   "cell_type": "markdown",
   "id": "726bb694-a5e4-4ea7-88ae-b07ef38f3581",
   "metadata": {},
   "source": [
    "**Question 3**"
   ]
  },
  {
   "cell_type": "code",
   "execution_count": 16,
   "id": "46bbf921-9259-4bb0-a4bc-801ec010fb3b",
   "metadata": {},
   "outputs": [
    {
     "data": {
      "text/plain": [
       "<matplotlib.legend.Legend at 0x7f797fe01780>"
      ]
     },
     "execution_count": 16,
     "metadata": {},
     "output_type": "execute_result"
    },
    {
     "data": {
      "image/png": "[encoded data removed]",
      "text/plain": [
       "<Figure size 640x480 with 1 Axes>"
      ]
     },
     "metadata": {},
     "output_type": "display_data"
    }
   ],
   "source": [
    "from sklearn.metrics import recall_score\n",
    "from sklearn.metrics import precision_score\n",
    "\n",
    "#Set-up threshold variable\n",
    "thresholds = np.linspace(0, 1, 101)\n",
    "\n",
    "scores = []\n",
    "\n",
    "for t in thresholds:\n",
    "    r_score = recall_score(y_val, y_val_pred >= t)\n",
    "    p_score = precision_score(y_val, y_val_pred >= t)\n",
    "    scores.append((t, r_score, p_score))\n",
    "\n",
    "columns = [\"threshold\", \"r_score\", \"p_score\"]\n",
    "df_scores = pd.DataFrame(scores, columns=columns)\n",
    "\n",
    "plt.plot(df_scores[\"threshold\"], df_scores[\"r_score\"], color=\"green\", label=\"recall_score\")\n",
    "plt.plot(df_scores[\"threshold\"], df_scores[\"p_score\"], color=\"blue\", label=\"precision_score\")\n",
    "plt.legend()"
   ]
  },
  {
   "cell_type": "markdown",
   "id": "ca93e442-c98e-4939-acba-3fe4e94c9421",
   "metadata": {},
   "source": [
    "**Question 4**"
   ]
  },
  {
   "cell_type": "code",
   "execution_count": 17,
   "id": "e12d35f7-bad1-47b8-9466-8ffc2b308499",
   "metadata": {},
   "outputs": [],
   "source": [
    "#Function to calculate F1\n",
    "def f1_score(r_score, p_score):\n",
    "    return (r_score * p_score) / (r_score + p_score)"
   ]
  },
  {
   "cell_type": "code",
   "execution_count": 18,
   "id": "719752b8-43d7-4af6-9d8e-cef2012df137",
   "metadata": {},
   "outputs": [
    {
     "data": {
      "text/plain": [
       "0.38"
      ]
     },
     "execution_count": 18,
     "metadata": {},
     "output_type": "execute_result"
    }
   ],
   "source": [
    "f1_scores = []\n",
    "\n",
    "for t in thresholds:\n",
    "    r_score = recall_score(y_val, y_val_pred >= t)\n",
    "    p_score = precision_score(y_val, y_val_pred >= t)\n",
    "    f1 = f1_score(r_score, p_score)\n",
    "    f1_scores.append((t, f1))\n",
    "\n",
    "columns = [\"threshold\", \"f1_score\"]\n",
    "df_f1_scores = pd.DataFrame(f1_scores, columns=columns)\n",
    "\n",
    "max_f1 = df_f1_scores[\"f1_score\"].max()\n",
    "position_f1_max = df_f1_scores[df_f1_scores[\"f1_score\"]==max_f1].index\n",
    "position_f1_max\n",
    "max_t = df_f1_scores[\"threshold\"][position_f1_max[3]]\n",
    "max_t\n"
   ]
  },
  {
   "cell_type": "markdown",
   "id": "a6227fb6-0dd3-45a0-b979-61bd7391f04f",
   "metadata": {},
   "source": [
    "**Question 5**"
   ]
  },
  {
   "cell_type": "code",
   "execution_count": 19,
   "id": "0be99e18-3e56-498b-a377-110a820d190b",
   "metadata": {},
   "outputs": [],
   "source": [
    "from sklearn.model_selection import KFold"
   ]
  },
  {
   "cell_type": "code",
   "execution_count": 22,
   "id": "abe65f69-5ae5-4ba9-bc3f-2d3f57a1acef",
   "metadata": {},
   "outputs": [
    {
     "name": "stdout",
     "output_type": "stream",
     "text": [
      "[0.9941860465116279, 0.9941176470588236, 0.9943346508563901, 0.9996107939802803, 1.0]\n"
     ]
    },
    {
     "data": {
      "text/plain": [
       "0.0027434713804377724"
      ]
     },
     "execution_count": 22,
     "metadata": {},
     "output_type": "execute_result"
    }
   ],
   "source": [
    "auc_scores = []\n",
    "\n",
    "kfold = KFold(n_splits=5, shuffle=True, random_state=1)\n",
    "\n",
    "for train_idx, val_idx in kfold.split(df_credit_full_train):\n",
    "    df_train = df_credit_full_train.iloc[train_idx]\n",
    "    df_val = df_credit_full_train.iloc[val_idx]\n",
    "\n",
    "    y_train = df_train.card_target.values\n",
    "    y_val = df_val.card_target.values\n",
    "    \n",
    "    df_train = df_train[selected_features]\n",
    "    df_val = df_val[selected_features]\n",
    "    \n",
    "    dv = DictVectorizer(sparse=False)\n",
    "    train_dict = df_train.to_dict(orient='records')\n",
    "    X_train = dv.fit_transform(train_dict)\n",
    "\n",
    "    model = LogisticRegression(solver='liblinear', C=1.0, max_iter=1000)\n",
    "    model.fit(X_train, y_train)\n",
    "    \n",
    "    val_dict = df_val.to_dict(orient='records')\n",
    "    X_val = dv.transform(val_dict)\n",
    "    y_pred = model.predict_proba(X_val)[:,1]\n",
    " \n",
    "    auc = roc_auc_score(y_val, y_pred)\n",
    "    auc_scores.append(auc)\n",
    "\n",
    "print(auc_scores)\n",
    "np.std(auc_scores)"
   ]
  },
  {
   "cell_type": "markdown",
   "id": "a8000437-6d51-4865-b96a-ed2dc8e72edb",
   "metadata": {},
   "source": [
    "**Question 6**"
   ]
  },
  {
   "cell_type": "code",
   "execution_count": 23,
   "id": "af2bf79b-0746-4ce6-98e6-8b082b6591a2",
   "metadata": {},
   "outputs": [
    {
     "data": {
      "text/plain": [
       "[(0.01, 0.9918810292344007, 0.00559887235402738),\n",
       " (0.1, 0.9950557137157224, 0.003954138088244392),\n",
       " (1, 0.9964498276814243, 0.0027434713804377724),\n",
       " (10, 0.9963886109436032, 0.0028151486609295684)]"
      ]
     },
     "execution_count": 23,
     "metadata": {},
     "output_type": "execute_result"
    }
   ],
   "source": [
    "auc_scores_c = []\n",
    "\n",
    "for c in [0.01, 0.1, 1, 10]:\n",
    "    \n",
    "    auc_scores = []\n",
    "\n",
    "    kfold = KFold(n_splits=5, shuffle=True, random_state=1)\n",
    "\n",
    "    for train_idx, val_idx in kfold.split(df_credit_full_train):\n",
    "        df_train = df_credit_full_train.iloc[train_idx]\n",
    "        df_val = df_credit_full_train.iloc[val_idx]\n",
    "\n",
    "        y_train = df_train.card_target.values\n",
    "        y_val = df_val.card_target.values\n",
    "        \n",
    "        df_train = df_train[selected_features]\n",
    "        df_val = df_val[selected_features]    \n",
    "\n",
    "        dv = DictVectorizer(sparse=False)\n",
    "        train_dict = df_train.to_dict(orient='records')\n",
    "        X_train = dv.fit_transform(train_dict)\n",
    "\n",
    "        model = LogisticRegression(solver='liblinear', C=c, max_iter=1000)\n",
    "        model.fit(X_train, y_train)\n",
    "\n",
    "        val_dict = df_val.to_dict(orient='records')\n",
    "        X_val = dv.transform(val_dict)\n",
    "        y_pred = model.predict_proba(X_val)[:,1]\n",
    "\n",
    "        auc = roc_auc_score(y_val, y_pred)\n",
    "        auc_scores.append(auc)\n",
    "\n",
    "    auc_scores_c.append((c, np.mean(auc_scores), np.std(auc_scores)))\n",
    "\n",
    "auc_scores_c\n",
    "    "
   ]
  },
  {
   "cell_type": "code",
   "execution_count": null,
   "id": "320376b2-84d2-4887-ab87-30a858c2dc32",
   "metadata": {},
   "outputs": [],
   "source": []
  }
 ],
 "metadata": {
  "kernelspec": {
   "display_name": "Python 3 (ipykernel)",
   "language": "python",
   "name": "python3"
  },
  "language_info": {
   "codemirror_mode": {
    "name": "ipython",
    "version": 3
   },
   "file_extension": ".py",
   "mimetype": "text/x-python",
   "name": "python",
   "nbconvert_exporter": "python",
   "pygments_lexer": "ipython3",
   "version": "3.10.6"
  }
 },
 "nbformat": 4,
 "nbformat_minor": 5
}
