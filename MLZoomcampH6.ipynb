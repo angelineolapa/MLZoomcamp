{
 "cells": [
  {
   "cell_type": "markdown",
   "id": "a4a1ae69-cc2c-458c-817b-5113a5670d12",
   "metadata": {},
   "source": [
    "**Homework 6**"
   ]
  },
  {
   "cell_type": "code",
   "execution_count": 1,
   "id": "db7cdf3e-dd8b-433c-ab63-d1f7223d9df3",
   "metadata": {},
   "outputs": [],
   "source": [
    "#Import libraries and dependencies\n",
    "import re\n",
    "import numpy as np\n",
    "import pandas as pd\n",
    "import seaborn as sns\n",
    "import xgboost as xgb\n",
    "import matplotlib.pyplot as plt\n",
    "from tqdm.auto import tqdm\n",
    "from sklearn.tree import DecisionTreeRegressor\n",
    "from sklearn.tree import export_text\n",
    "from sklearn.feature_extraction import DictVectorizer\n",
    "from sklearn.model_selection import train_test_split\n",
    "from sklearn.ensemble import RandomForestRegressor\n",
    "from sklearn.metrics import mean_squared_error\n",
    "from sklearn.model_selection import train_test_split\n",
    "\n",
    "%matplotlib inline"
   ]
  },
  {
   "cell_type": "code",
   "execution_count": 2,
   "id": "754e3d11-38b9-4a21-816d-b4222fcf623e",
   "metadata": {},
   "outputs": [],
   "source": [
    "#Import data into dataframe\n",
    "df_housing = pd.read_csv(\"housing.csv\")"
   ]
  },
  {
   "cell_type": "code",
   "execution_count": 3,
   "id": "dafa3b83-c3d4-4dde-a526-b855e19c5a39",
   "metadata": {},
   "outputs": [],
   "source": [
    "selected_vars = [\"longitude\", \"latitude\", \"housing_median_age\", \"total_rooms\", \"total_bedrooms\", \"population\", \"households\", \n",
    "               \"median_income\", \"median_house_value\", \"ocean_proximity\"]\n",
    "dh_housing = df_housing[selected_vars]"
   ]
  },
  {
   "cell_type": "code",
   "execution_count": 4,
   "id": "c8fafea7-235c-4b85-a04a-3f51f7ace9f7",
   "metadata": {},
   "outputs": [
    {
     "name": "stdout",
     "output_type": "stream",
     "text": [
      "<class 'pandas.core.frame.DataFrame'>\n",
      "RangeIndex: 20640 entries, 0 to 20639\n",
      "Data columns (total 10 columns):\n",
      " #   Column              Non-Null Count  Dtype  \n",
      "---  ------              --------------  -----  \n",
      " 0   longitude           20640 non-null  float64\n",
      " 1   latitude            20640 non-null  float64\n",
      " 2   housing_median_age  20640 non-null  float64\n",
      " 3   total_rooms         20640 non-null  float64\n",
      " 4   total_bedrooms      20433 non-null  float64\n",
      " 5   population          20640 non-null  float64\n",
      " 6   households          20640 non-null  float64\n",
      " 7   median_income       20640 non-null  float64\n",
      " 8   median_house_value  20640 non-null  float64\n",
      " 9   ocean_proximity     20640 non-null  object \n",
      "dtypes: float64(9), object(1)\n",
      "memory usage: 1.6+ MB\n"
     ]
    }
   ],
   "source": [
    "#Initial exploration\n",
    "dh_housing.info()"
   ]
  },
  {
   "cell_type": "code",
   "execution_count": 5,
   "id": "8ce28c68-6cf4-4a80-aee0-bb07139d10f3",
   "metadata": {},
   "outputs": [
    {
     "data": {
      "text/plain": [
       "0"
      ]
     },
     "execution_count": 5,
     "metadata": {},
     "output_type": "execute_result"
    }
   ],
   "source": [
    "#Fill missing values\n",
    "df_housing[\"total_bedrooms\"].fillna(0, inplace=True)\n",
    "df_housing[\"total_bedrooms\"].isna().sum()"
   ]
  },
  {
   "cell_type": "code",
   "execution_count": 6,
   "id": "2ce34257-89f2-46cd-baa9-ddc55a26b2b6",
   "metadata": {},
   "outputs": [],
   "source": [
    "#Apply log to median_house_value and create target variable\n",
    "df_housing[\"log_median_house_value\"] = np.log(df_housing[\"median_house_value\"])"
   ]
  },
  {
   "cell_type": "code",
   "execution_count": 7,
   "id": "c50ee94e-3fa5-4806-a63f-58370d20d939",
   "metadata": {},
   "outputs": [],
   "source": [
    "#Split dataset in train, validation and test sets\n",
    "\n",
    "df_housing_full_train, df_housing_test = train_test_split(df_housing, test_size=0.2, random_state=1)\n",
    "df_housing_train, df_housing_val = train_test_split(df_housing_full_train, test_size=0.25, random_state=1)\n",
    "\n",
    "df_housing_train = df_housing_train.reset_index(drop=True)\n",
    "df_housing_val = df_housing_val.reset_index(drop=True)\n",
    "df_housing_test = df_housing_test.reset_index(drop=True)\n",
    "\n",
    "y_housing_train = df_housing_train.log_median_house_value.values\n",
    "y_housing_val = df_housing_val.log_median_house_value.values\n",
    "y_housing_test = df_housing_test.log_median_house_value.values\n",
    "\n",
    "df_housing_train.drop([\"median_house_value\", \"log_median_house_value\"], axis=1, inplace=True)\n",
    "df_housing_val.drop([\"median_house_value\", \"log_median_house_value\"], axis=1, inplace=True)\n",
    "df_housing_test.drop([\"median_house_value\", \"log_median_house_value\"], axis=1, inplace=True)\n"
   ]
  },
  {
   "cell_type": "code",
   "execution_count": 8,
   "id": "fbb05d1a-ef80-4603-854a-a35d9cdae0c8",
   "metadata": {},
   "outputs": [],
   "source": [
    "#Apply one-hot-encoding using DictVectorizer\n",
    "dv = DictVectorizer(sparse=False)\n",
    "\n",
    "train_dict = df_housing_train.to_dict(orient='records')\n",
    "X_housing_train = dv.fit_transform(train_dict)"
   ]
  },
  {
   "cell_type": "markdown",
   "id": "6b70e5d2-fce7-410b-ad1a-5216a5dbfb79",
   "metadata": {},
   "source": [
    "**Question 1**"
   ]
  },
  {
   "cell_type": "code",
   "execution_count": 10,
   "id": "44c29208-8c4f-4ac2-887d-beb185a27c7b",
   "metadata": {},
   "outputs": [
    {
     "data": {
      "text/html": [
       "<style>#sk-container-id-1 {color: black;background-color: white;}#sk-container-id-1 pre{padding: 0;}#sk-container-id-1 div.sk-toggleable {background-color: white;}#sk-container-id-1 label.sk-toggleable__label {cursor: pointer;display: block;width: 100%;margin-bottom: 0;padding: 0.3em;box-sizing: border-box;text-align: center;}#sk-container-id-1 label.sk-toggleable__label-arrow:before {content: \"▸\";float: left;margin-right: 0.25em;color: #696969;}#sk-container-id-1 label.sk-toggleable__label-arrow:hover:before {color: black;}#sk-container-id-1 div.sk-estimator:hover label.sk-toggleable__label-arrow:before {color: black;}#sk-container-id-1 div.sk-toggleable__content {max-height: 0;max-width: 0;overflow: hidden;text-align: left;background-color: #f0f8ff;}#sk-container-id-1 div.sk-toggleable__content pre {margin: 0.2em;color: black;border-radius: 0.25em;background-color: #f0f8ff;}#sk-container-id-1 input.sk-toggleable__control:checked~div.sk-toggleable__content {max-height: 200px;max-width: 100%;overflow: auto;}#sk-container-id-1 input.sk-toggleable__control:checked~label.sk-toggleable__label-arrow:before {content: \"▾\";}#sk-container-id-1 div.sk-estimator input.sk-toggleable__control:checked~label.sk-toggleable__label {background-color: #d4ebff;}#sk-container-id-1 div.sk-label input.sk-toggleable__control:checked~label.sk-toggleable__label {background-color: #d4ebff;}#sk-container-id-1 input.sk-hidden--visually {border: 0;clip: rect(1px 1px 1px 1px);clip: rect(1px, 1px, 1px, 1px);height: 1px;margin: -1px;overflow: hidden;padding: 0;position: absolute;width: 1px;}#sk-container-id-1 div.sk-estimator {font-family: monospace;background-color: #f0f8ff;border: 1px dotted black;border-radius: 0.25em;box-sizing: border-box;margin-bottom: 0.5em;}#sk-container-id-1 div.sk-estimator:hover {background-color: #d4ebff;}#sk-container-id-1 div.sk-parallel-item::after {content: \"\";width: 100%;border-bottom: 1px solid gray;flex-grow: 1;}#sk-container-id-1 div.sk-label:hover label.sk-toggleable__label {background-color: #d4ebff;}#sk-container-id-1 div.sk-serial::before {content: \"\";position: absolute;border-left: 1px solid gray;box-sizing: border-box;top: 0;bottom: 0;left: 50%;z-index: 0;}#sk-container-id-1 div.sk-serial {display: flex;flex-direction: column;align-items: center;background-color: white;padding-right: 0.2em;padding-left: 0.2em;position: relative;}#sk-container-id-1 div.sk-item {position: relative;z-index: 1;}#sk-container-id-1 div.sk-parallel {display: flex;align-items: stretch;justify-content: center;background-color: white;position: relative;}#sk-container-id-1 div.sk-item::before, #sk-container-id-1 div.sk-parallel-item::before {content: \"\";position: absolute;border-left: 1px solid gray;box-sizing: border-box;top: 0;bottom: 0;left: 50%;z-index: -1;}#sk-container-id-1 div.sk-parallel-item {display: flex;flex-direction: column;z-index: 1;position: relative;background-color: white;}#sk-container-id-1 div.sk-parallel-item:first-child::after {align-self: flex-end;width: 50%;}#sk-container-id-1 div.sk-parallel-item:last-child::after {align-self: flex-start;width: 50%;}#sk-container-id-1 div.sk-parallel-item:only-child::after {width: 0;}#sk-container-id-1 div.sk-dashed-wrapped {border: 1px dashed gray;margin: 0 0.4em 0.5em 0.4em;box-sizing: border-box;padding-bottom: 0.4em;background-color: white;}#sk-container-id-1 div.sk-label label {font-family: monospace;font-weight: bold;display: inline-block;line-height: 1.2em;}#sk-container-id-1 div.sk-label-container {text-align: center;}#sk-container-id-1 div.sk-container {/* jupyter's `normalize.less` sets `[hidden] { display: none; }` but bootstrap.min.css set `[hidden] { display: none !important; }` so we also need the `!important` here to be able to override the default hidden behavior on the sphinx rendered scikit-learn.org. See: https://github.com/scikit-learn/scikit-learn/issues/21755 */display: inline-block !important;position: relative;}#sk-container-id-1 div.sk-text-repr-fallback {display: none;}</style><div id=\"sk-container-id-1\" class=\"sk-top-container\"><div class=\"sk-text-repr-fallback\"><pre>DecisionTreeRegressor(max_depth=1)</pre><b>In a Jupyter environment, please rerun this cell to show the HTML representation or trust the notebook. <br />On GitHub, the HTML representation is unable to render, please try loading this page with nbviewer.org.</b></div><div class=\"sk-container\" hidden><div class=\"sk-item\"><div class=\"sk-estimator sk-toggleable\"><input class=\"sk-toggleable__control sk-hidden--visually\" id=\"sk-estimator-id-1\" type=\"checkbox\" checked><label for=\"sk-estimator-id-1\" class=\"sk-toggleable__label sk-toggleable__label-arrow\">DecisionTreeRegressor</label><div class=\"sk-toggleable__content\"><pre>DecisionTreeRegressor(max_depth=1)</pre></div></div></div></div></div>"
      ],
      "text/plain": [
       "DecisionTreeRegressor(max_depth=1)"
      ]
     },
     "execution_count": 10,
     "metadata": {},
     "output_type": "execute_result"
    }
   ],
   "source": [
    "#Train model with decision tree regressor\n",
    "regressor = DecisionTreeRegressor(max_depth=1)\n",
    "regressor.fit(X_housing_train, y_housing_train)"
   ]
  },
  {
   "cell_type": "code",
   "execution_count": 13,
   "id": "198d4719-1534-4ac4-aee4-be1e1f4b3197",
   "metadata": {},
   "outputs": [
    {
     "name": "stdout",
     "output_type": "stream",
     "text": [
      "|--- ocean_proximity=INLAND <= 0.50\n",
      "|   |--- value: [12.31]\n",
      "|--- ocean_proximity=INLAND >  0.50\n",
      "|   |--- value: [11.61]\n",
      "\n"
     ]
    }
   ],
   "source": [
    "#Inspect model\n",
    "from sklearn.tree import export_text\n",
    "print(export_text(regressor, feature_names=dv.get_feature_names()))"
   ]
  },
  {
   "cell_type": "markdown",
   "id": "6d2e25e1-783f-452b-91b5-8e6240a120c7",
   "metadata": {},
   "source": [
    "**Question 2**"
   ]
  },
  {
   "cell_type": "code",
   "execution_count": 17,
   "id": "223ecfb5-b40b-45b1-acff-48adc4595f2c",
   "metadata": {},
   "outputs": [
    {
     "data": {
      "text/html": [
       "<style>#sk-container-id-2 {color: black;background-color: white;}#sk-container-id-2 pre{padding: 0;}#sk-container-id-2 div.sk-toggleable {background-color: white;}#sk-container-id-2 label.sk-toggleable__label {cursor: pointer;display: block;width: 100%;margin-bottom: 0;padding: 0.3em;box-sizing: border-box;text-align: center;}#sk-container-id-2 label.sk-toggleable__label-arrow:before {content: \"▸\";float: left;margin-right: 0.25em;color: #696969;}#sk-container-id-2 label.sk-toggleable__label-arrow:hover:before {color: black;}#sk-container-id-2 div.sk-estimator:hover label.sk-toggleable__label-arrow:before {color: black;}#sk-container-id-2 div.sk-toggleable__content {max-height: 0;max-width: 0;overflow: hidden;text-align: left;background-color: #f0f8ff;}#sk-container-id-2 div.sk-toggleable__content pre {margin: 0.2em;color: black;border-radius: 0.25em;background-color: #f0f8ff;}#sk-container-id-2 input.sk-toggleable__control:checked~div.sk-toggleable__content {max-height: 200px;max-width: 100%;overflow: auto;}#sk-container-id-2 input.sk-toggleable__control:checked~label.sk-toggleable__label-arrow:before {content: \"▾\";}#sk-container-id-2 div.sk-estimator input.sk-toggleable__control:checked~label.sk-toggleable__label {background-color: #d4ebff;}#sk-container-id-2 div.sk-label input.sk-toggleable__control:checked~label.sk-toggleable__label {background-color: #d4ebff;}#sk-container-id-2 input.sk-hidden--visually {border: 0;clip: rect(1px 1px 1px 1px);clip: rect(1px, 1px, 1px, 1px);height: 1px;margin: -1px;overflow: hidden;padding: 0;position: absolute;width: 1px;}#sk-container-id-2 div.sk-estimator {font-family: monospace;background-color: #f0f8ff;border: 1px dotted black;border-radius: 0.25em;box-sizing: border-box;margin-bottom: 0.5em;}#sk-container-id-2 div.sk-estimator:hover {background-color: #d4ebff;}#sk-container-id-2 div.sk-parallel-item::after {content: \"\";width: 100%;border-bottom: 1px solid gray;flex-grow: 1;}#sk-container-id-2 div.sk-label:hover label.sk-toggleable__label {background-color: #d4ebff;}#sk-container-id-2 div.sk-serial::before {content: \"\";position: absolute;border-left: 1px solid gray;box-sizing: border-box;top: 0;bottom: 0;left: 50%;z-index: 0;}#sk-container-id-2 div.sk-serial {display: flex;flex-direction: column;align-items: center;background-color: white;padding-right: 0.2em;padding-left: 0.2em;position: relative;}#sk-container-id-2 div.sk-item {position: relative;z-index: 1;}#sk-container-id-2 div.sk-parallel {display: flex;align-items: stretch;justify-content: center;background-color: white;position: relative;}#sk-container-id-2 div.sk-item::before, #sk-container-id-2 div.sk-parallel-item::before {content: \"\";position: absolute;border-left: 1px solid gray;box-sizing: border-box;top: 0;bottom: 0;left: 50%;z-index: -1;}#sk-container-id-2 div.sk-parallel-item {display: flex;flex-direction: column;z-index: 1;position: relative;background-color: white;}#sk-container-id-2 div.sk-parallel-item:first-child::after {align-self: flex-end;width: 50%;}#sk-container-id-2 div.sk-parallel-item:last-child::after {align-self: flex-start;width: 50%;}#sk-container-id-2 div.sk-parallel-item:only-child::after {width: 0;}#sk-container-id-2 div.sk-dashed-wrapped {border: 1px dashed gray;margin: 0 0.4em 0.5em 0.4em;box-sizing: border-box;padding-bottom: 0.4em;background-color: white;}#sk-container-id-2 div.sk-label label {font-family: monospace;font-weight: bold;display: inline-block;line-height: 1.2em;}#sk-container-id-2 div.sk-label-container {text-align: center;}#sk-container-id-2 div.sk-container {/* jupyter's `normalize.less` sets `[hidden] { display: none; }` but bootstrap.min.css set `[hidden] { display: none !important; }` so we also need the `!important` here to be able to override the default hidden behavior on the sphinx rendered scikit-learn.org. See: https://github.com/scikit-learn/scikit-learn/issues/21755 */display: inline-block !important;position: relative;}#sk-container-id-2 div.sk-text-repr-fallback {display: none;}</style><div id=\"sk-container-id-2\" class=\"sk-top-container\"><div class=\"sk-text-repr-fallback\"><pre>RandomForestRegressor(n_estimators=10, n_jobs=-1, random_state=1)</pre><b>In a Jupyter environment, please rerun this cell to show the HTML representation or trust the notebook. <br />On GitHub, the HTML representation is unable to render, please try loading this page with nbviewer.org.</b></div><div class=\"sk-container\" hidden><div class=\"sk-item\"><div class=\"sk-estimator sk-toggleable\"><input class=\"sk-toggleable__control sk-hidden--visually\" id=\"sk-estimator-id-2\" type=\"checkbox\" checked><label for=\"sk-estimator-id-2\" class=\"sk-toggleable__label sk-toggleable__label-arrow\">RandomForestRegressor</label><div class=\"sk-toggleable__content\"><pre>RandomForestRegressor(n_estimators=10, n_jobs=-1, random_state=1)</pre></div></div></div></div></div>"
      ],
      "text/plain": [
       "RandomForestRegressor(n_estimators=10, n_jobs=-1, random_state=1)"
      ]
     },
     "execution_count": 17,
     "metadata": {},
     "output_type": "execute_result"
    }
   ],
   "source": [
    "#Train random forest with specified parameters\n",
    "n_estimators = 10\n",
    "random_state = 1\n",
    "n_jobs = -1\n",
    "rf = RandomForestRegressor(n_estimators=n_estimators, random_state=random_state, n_jobs=n_jobs)\n",
    "rf.fit(X_housing_train, y_housing_train)"
   ]
  },
  {
   "cell_type": "code",
   "execution_count": 32,
   "id": "7cd143ed-034b-402f-9371-0ae5a2399268",
   "metadata": {},
   "outputs": [],
   "source": [
    "#define function to calculate RMSE\n",
    "def rmse(y, y_pred):\n",
    "    error = y_pred - y\n",
    "    mse = (error ** 2).mean()\n",
    "    return np.sqrt(mse)"
   ]
  },
  {
   "cell_type": "code",
   "execution_count": 23,
   "id": "77b8944d-4cd2-4fff-9f09-7459ebd25540",
   "metadata": {},
   "outputs": [
    {
     "data": {
      "text/plain": [
       "0.245"
      ]
     },
     "execution_count": 23,
     "metadata": {},
     "output_type": "execute_result"
    }
   ],
   "source": [
    "#Calculate AUC\n",
    "val_dict = df_housing_val.to_dict(orient='records')\n",
    "X_housing_val = dv.transform(val_dict)\n",
    "y_housing_val_pred = rf.predict(X_housing_val)\n",
    "round(rmse(y_housing_val, y_housing_val_pred),3)"
   ]
  },
  {
   "cell_type": "markdown",
   "id": "42214c78-5082-4e10-b53d-71d910baf61f",
   "metadata": {},
   "source": [
    "**Question 3**"
   ]
  },
  {
   "cell_type": "code",
   "execution_count": 41,
   "id": "0663b4fa-633c-498e-8bf1-1ddb6947bc7a",
   "metadata": {},
   "outputs": [],
   "source": [
    "#Train random forest with specified parameters\n",
    "scores = []\n",
    "random_state = 1\n",
    "n_jobs = -1\n",
    "\n",
    "for n in range(10,201,10):\n",
    "    rf = RandomForestRegressor(n_estimators=n, random_state=random_state, n_jobs=n_jobs)\n",
    "    rf.fit(X_housing_train, y_housing_train)\n",
    "    \n",
    "    val_dict = df_housing_val.to_dict(orient=\"records\")\n",
    "    X_housing_val = dv.transform(val_dict)\n",
    "    y_housing_val_pred = rf.predict(X_housing_val)\n",
    "    rmse = ((y_housing_val_pred - y_housing_val)**2).mean()\n",
    "    \n",
    "    scores.append((n, rmse))\n",
    "\n",
    "columns = [\"n_estimators\", \"rmse\"]\n",
    "df_scores = pd.DataFrame(scores, columns=columns)\n",
    "df_scores[\"rmse\"] = round(df_scores[\"rmse\"],3)"
   ]
  },
  {
   "cell_type": "code",
   "execution_count": 42,
   "id": "932bcbed-6580-4f55-9db2-306d7b54efc6",
   "metadata": {},
   "outputs": [
    {
     "data": {
      "text/plain": [
       "<AxesSubplot:xlabel='n_estimators'>"
      ]
     },
     "execution_count": 42,
     "metadata": {},
     "output_type": "execute_result"
    },
    {
     "data": {
      "image/png": "[encoded data removed]",
      "text/plain": [
       "<Figure size 640x480 with 1 Axes>"
      ]
     },
     "metadata": {},
     "output_type": "display_data"
    }
   ],
   "source": [
    "#Plot RMSE values\n",
    "df_scores.plot(x=\"n_estimators\", y=\"rmse\")"
   ]
  },
  {
   "cell_type": "markdown",
   "id": "49e72761-711e-4a4d-9336-50c34f4c5e10",
   "metadata": {},
   "source": [
    "**Question 4**"
   ]
  },
  {
   "cell_type": "code",
   "execution_count": 43,
   "id": "493e0257-732d-4098-a16b-de091bb1be1e",
   "metadata": {},
   "outputs": [],
   "source": [
    "#Train random forest with specified parameters\n",
    "scores = []\n",
    "random_state = 1\n",
    "n_jobs = -1\n",
    "\n",
    "for d in [10, 15, 20, 25]:\n",
    "    for n in range(10,201,10):\n",
    "        rf = RandomForestRegressor(n_estimators=n, max_depth=d, random_state=random_state, \n",
    "                                   n_jobs=n_jobs)\n",
    "        rf.fit(X_housing_train, y_housing_train)\n",
    "\n",
    "        val_dict = df_housing_val.to_dict(orient=\"records\")\n",
    "        X_housing_val = dv.transform(val_dict)\n",
    "        y_housing_val_pred = rf.predict(X_housing_val)\n",
    "        rmse = ((y_housing_val_pred - y_housing_val)**2).mean()\n",
    "\n",
    "        scores.append((d, n, rmse))\n",
    "\n",
    "columns = [\"max_depth\", \"n_estimators\", \"rmse\"]\n",
    "df_scores = pd.DataFrame(scores, columns=columns)\n",
    "df_scores[\"rmse\"] = round(df_scores[\"rmse\"],3)"
   ]
  },
  {
   "cell_type": "code",
   "execution_count": 46,
   "id": "a26c8fc0-9b3a-49e6-ab52-df8c1cbba860",
   "metadata": {},
   "outputs": [
    {
     "data": {
      "text/plain": [
       "<matplotlib.legend.Legend at 0x7f47587dff70>"
      ]
     },
     "execution_count": 46,
     "metadata": {},
     "output_type": "execute_result"
    },
    {
     "data": {
      "image/png": "[encoded data removed]",
      "text/plain": [
       "<Figure size 640x480 with 1 Axes>"
      ]
     },
     "metadata": {},
     "output_type": "display_data"
    }
   ],
   "source": [
    "#Plot RMSE values\n",
    "\n",
    "for d in [10, 15, 20, 25]:\n",
    "    df_scores_subset = df_scores[df_scores.max_depth == d]\n",
    "    \n",
    "    plt.plot(df_scores_subset.n_estimators, df_scores_subset.rmse,\n",
    "             label='max_depth=%d' % d)\n",
    "\n",
    "plt.legend()"
   ]
  },
  {
   "cell_type": "markdown",
   "id": "a33f577b-bd40-4f8c-8210-574a9a1e68e3",
   "metadata": {},
   "source": [
    "**Question 5**"
   ]
  },
  {
   "cell_type": "code",
   "execution_count": 57,
   "id": "2c5b87de-ccc7-4a2c-a307-84b07e77b42d",
   "metadata": {},
   "outputs": [
    {
     "name": "stderr",
     "output_type": "stream",
     "text": [
      "/opt/conda/lib/python3.10/site-packages/sklearn/utils/deprecation.py:87: FutureWarning: Function get_feature_names is deprecated; get_feature_names is deprecated in 1.0 and will be removed in 1.2. Please use get_feature_names_out instead.\n",
      "  warnings.warn(msg, category=FutureWarning)\n"
     ]
    },
    {
     "data": {
      "image/png": "[encoded data removed]",
      "text/plain": [
       "<Figure size 640x480 with 1 Axes>"
      ]
     },
     "metadata": {},
     "output_type": "display_data"
    }
   ],
   "source": [
    "#Train model with specified parameters\n",
    "rf = RandomForestRegressor(n_estimators=10, max_depth=20, random_state=1, \n",
    "                                   n_jobs=-1)\n",
    "rf.fit(X_housing_train, y_housing_train)\n",
    "importances = rf.feature_importances_\n",
    "feature_names = dv.get_feature_names()\n",
    "\n",
    "forest_importances = pd.Series(importances, index=feature_names)\n",
    "\n",
    "fig, ax = plt.subplots()\n",
    "forest_importances.plot.bar()\n",
    "ax.set_title(\"Feature importances using MDI\")\n",
    "ax.set_ylabel(\"Mean decrease in impurity\")\n",
    "fig.tight_layout()"
   ]
  },
  {
   "cell_type": "markdown",
   "id": "8b27d1e1-f5ed-459e-9195-466d596dab4e",
   "metadata": {},
   "source": [
    "**Question 6**"
   ]
  },
  {
   "cell_type": "code",
   "execution_count": 65,
   "id": "f923f3af-d0f7-4e63-800e-13d48cf19a89",
   "metadata": {},
   "outputs": [],
   "source": [
    "import xgboost as xgb\n",
    "\n",
    "#Create DMatrix for train and validation\n",
    "\n",
    "features = dv.feature_names_\n",
    "\n",
    "regex = re.compile(r\"<\", re.IGNORECASE)\n",
    "features = [regex.sub(\"_\", col) if any(x in str(col) for x in set(('[', ']', '<'))) else col for col in features]\n",
    "\n",
    "dtrain = xgb.DMatrix(X_housing_train, label=y_housing_train, feature_names=features)\n",
    "dval = xgb.DMatrix(X_housing_val, label=y_housing_val, feature_names=features)"
   ]
  },
  {
   "cell_type": "code",
   "execution_count": 66,
   "id": "bceda7e6-5017-4336-b7de-6d9976494ee1",
   "metadata": {},
   "outputs": [],
   "source": [
    "#Set watchlist\n",
    "watchlist = [(dtrain, 'train'), (dval, 'val')]"
   ]
  },
  {
   "cell_type": "code",
   "execution_count": 67,
   "id": "a2a68d2c-9458-4b62-a094-9b4441f330af",
   "metadata": {},
   "outputs": [
    {
     "name": "stdout",
     "output_type": "stream",
     "text": [
      "[0]\ttrain-rmse:8.12733\tval-rmse:8.13244\n",
      "[1]\ttrain-rmse:5.69586\tval-rmse:5.70069\n",
      "[2]\ttrain-rmse:3.99539\tval-rmse:4.00040\n",
      "[3]\ttrain-rmse:2.80712\tval-rmse:2.81078\n",
      "[4]\ttrain-rmse:1.97834\tval-rmse:1.98174\n",
      "[5]\ttrain-rmse:1.40218\tval-rmse:1.40740\n",
      "[6]\ttrain-rmse:1.00099\tval-rmse:1.00699\n",
      "[7]\ttrain-rmse:0.72751\tval-rmse:0.73438\n",
      "[8]\ttrain-rmse:0.54190\tval-rmse:0.55046\n",
      "[9]\ttrain-rmse:0.42167\tval-rmse:0.43233\n",
      "[10]\ttrain-rmse:0.34481\tval-rmse:0.35782\n",
      "[11]\ttrain-rmse:0.29835\tval-rmse:0.31360\n",
      "[12]\ttrain-rmse:0.27101\tval-rmse:0.28869\n",
      "[13]\ttrain-rmse:0.25275\tval-rmse:0.27343\n",
      "[14]\ttrain-rmse:0.24302\tval-rmse:0.26628\n",
      "[15]\ttrain-rmse:0.23575\tval-rmse:0.26099\n",
      "[16]\ttrain-rmse:0.23035\tval-rmse:0.25701\n",
      "[17]\ttrain-rmse:0.22594\tval-rmse:0.25389\n",
      "[18]\ttrain-rmse:0.22137\tval-rmse:0.24960\n",
      "[19]\ttrain-rmse:0.21743\tval-rmse:0.24699\n",
      "[20]\ttrain-rmse:0.21461\tval-rmse:0.24532\n",
      "[21]\ttrain-rmse:0.21240\tval-rmse:0.24460\n",
      "[22]\ttrain-rmse:0.21152\tval-rmse:0.24413\n",
      "[23]\ttrain-rmse:0.20834\tval-rmse:0.24287\n",
      "[24]\ttrain-rmse:0.20580\tval-rmse:0.24140\n",
      "[25]\ttrain-rmse:0.20356\tval-rmse:0.24033\n",
      "[26]\ttrain-rmse:0.20227\tval-rmse:0.24018\n",
      "[27]\ttrain-rmse:0.19993\tval-rmse:0.23902\n",
      "[28]\ttrain-rmse:0.19717\tval-rmse:0.23718\n",
      "[29]\ttrain-rmse:0.19599\tval-rmse:0.23702\n",
      "[30]\ttrain-rmse:0.19462\tval-rmse:0.23694\n",
      "[31]\ttrain-rmse:0.19317\tval-rmse:0.23708\n",
      "[32]\ttrain-rmse:0.19132\tval-rmse:0.23644\n",
      "[33]\ttrain-rmse:0.18956\tval-rmse:0.23540\n",
      "[34]\ttrain-rmse:0.18731\tval-rmse:0.23544\n",
      "[35]\ttrain-rmse:0.18687\tval-rmse:0.23540\n",
      "[36]\ttrain-rmse:0.18539\tval-rmse:0.23448\n",
      "[37]\ttrain-rmse:0.18399\tval-rmse:0.23400\n",
      "[38]\ttrain-rmse:0.18247\tval-rmse:0.23392\n",
      "[39]\ttrain-rmse:0.18158\tval-rmse:0.23373\n",
      "[40]\ttrain-rmse:0.18073\tval-rmse:0.23358\n",
      "[41]\ttrain-rmse:0.17922\tval-rmse:0.23343\n",
      "[42]\ttrain-rmse:0.17856\tval-rmse:0.23350\n",
      "[43]\ttrain-rmse:0.17774\tval-rmse:0.23348\n",
      "[44]\ttrain-rmse:0.17689\tval-rmse:0.23349\n",
      "[45]\ttrain-rmse:0.17626\tval-rmse:0.23331\n",
      "[46]\ttrain-rmse:0.17561\tval-rmse:0.23278\n",
      "[47]\ttrain-rmse:0.17486\tval-rmse:0.23274\n",
      "[48]\ttrain-rmse:0.17373\tval-rmse:0.23281\n",
      "[49]\ttrain-rmse:0.17250\tval-rmse:0.23285\n",
      "[50]\ttrain-rmse:0.17133\tval-rmse:0.23297\n",
      "[51]\ttrain-rmse:0.16985\tval-rmse:0.23260\n",
      "[52]\ttrain-rmse:0.16813\tval-rmse:0.23221\n",
      "[53]\ttrain-rmse:0.16732\tval-rmse:0.23218\n",
      "[54]\ttrain-rmse:0.16609\tval-rmse:0.23174\n",
      "[55]\ttrain-rmse:0.16535\tval-rmse:0.23169\n",
      "[56]\ttrain-rmse:0.16459\tval-rmse:0.23157\n",
      "[57]\ttrain-rmse:0.16395\tval-rmse:0.23130\n",
      "[58]\ttrain-rmse:0.16274\tval-rmse:0.23158\n",
      "[59]\ttrain-rmse:0.16107\tval-rmse:0.23117\n",
      "[60]\ttrain-rmse:0.16016\tval-rmse:0.23109\n",
      "[61]\ttrain-rmse:0.15957\tval-rmse:0.23112\n",
      "[62]\ttrain-rmse:0.15890\tval-rmse:0.23101\n",
      "[63]\ttrain-rmse:0.15815\tval-rmse:0.23094\n",
      "[64]\ttrain-rmse:0.15705\tval-rmse:0.23059\n",
      "[65]\ttrain-rmse:0.15691\tval-rmse:0.23059\n",
      "[66]\ttrain-rmse:0.15622\tval-rmse:0.23047\n",
      "[67]\ttrain-rmse:0.15543\tval-rmse:0.23041\n",
      "[68]\ttrain-rmse:0.15511\tval-rmse:0.23045\n",
      "[69]\ttrain-rmse:0.15426\tval-rmse:0.23071\n",
      "[70]\ttrain-rmse:0.15374\tval-rmse:0.23070\n",
      "[71]\ttrain-rmse:0.15321\tval-rmse:0.23056\n",
      "[72]\ttrain-rmse:0.15260\tval-rmse:0.23025\n",
      "[73]\ttrain-rmse:0.15203\tval-rmse:0.23021\n",
      "[74]\ttrain-rmse:0.15182\tval-rmse:0.23016\n",
      "[75]\ttrain-rmse:0.15076\tval-rmse:0.22975\n",
      "[76]\ttrain-rmse:0.15020\tval-rmse:0.22957\n",
      "[77]\ttrain-rmse:0.14947\tval-rmse:0.22965\n",
      "[78]\ttrain-rmse:0.14890\tval-rmse:0.22961\n",
      "[79]\ttrain-rmse:0.14813\tval-rmse:0.22957\n",
      "[80]\ttrain-rmse:0.14708\tval-rmse:0.22903\n",
      "[81]\ttrain-rmse:0.14676\tval-rmse:0.22889\n",
      "[82]\ttrain-rmse:0.14653\tval-rmse:0.22892\n",
      "[83]\ttrain-rmse:0.14599\tval-rmse:0.22893\n",
      "[84]\ttrain-rmse:0.14486\tval-rmse:0.22904\n",
      "[85]\ttrain-rmse:0.14429\tval-rmse:0.22911\n",
      "[86]\ttrain-rmse:0.14303\tval-rmse:0.22900\n",
      "[87]\ttrain-rmse:0.14235\tval-rmse:0.22880\n",
      "[88]\ttrain-rmse:0.14186\tval-rmse:0.22900\n",
      "[89]\ttrain-rmse:0.14079\tval-rmse:0.22866\n",
      "[90]\ttrain-rmse:0.14010\tval-rmse:0.22856\n",
      "[91]\ttrain-rmse:0.13963\tval-rmse:0.22834\n",
      "[92]\ttrain-rmse:0.13938\tval-rmse:0.22847\n",
      "[93]\ttrain-rmse:0.13895\tval-rmse:0.22841\n",
      "[94]\ttrain-rmse:0.13816\tval-rmse:0.22822\n",
      "[95]\ttrain-rmse:0.13773\tval-rmse:0.22823\n",
      "[96]\ttrain-rmse:0.13688\tval-rmse:0.22813\n",
      "[97]\ttrain-rmse:0.13642\tval-rmse:0.22812\n",
      "[98]\ttrain-rmse:0.13593\tval-rmse:0.22806\n",
      "[99]\ttrain-rmse:0.13522\tval-rmse:0.22784\n",
      "[100]\ttrain-rmse:0.13456\tval-rmse:0.22787\n",
      "[101]\ttrain-rmse:0.13431\tval-rmse:0.22793\n",
      "[102]\ttrain-rmse:0.13376\tval-rmse:0.22804\n",
      "[103]\ttrain-rmse:0.13315\tval-rmse:0.22806\n",
      "[104]\ttrain-rmse:0.13230\tval-rmse:0.22797\n",
      "[105]\ttrain-rmse:0.13140\tval-rmse:0.22789\n",
      "[106]\ttrain-rmse:0.13077\tval-rmse:0.22784\n",
      "[107]\ttrain-rmse:0.13011\tval-rmse:0.22781\n",
      "[108]\ttrain-rmse:0.12953\tval-rmse:0.22779\n",
      "[109]\ttrain-rmse:0.12913\tval-rmse:0.22769\n",
      "[110]\ttrain-rmse:0.12853\tval-rmse:0.22783\n",
      "[111]\ttrain-rmse:0.12798\tval-rmse:0.22750\n",
      "[112]\ttrain-rmse:0.12761\tval-rmse:0.22745\n",
      "[113]\ttrain-rmse:0.12695\tval-rmse:0.22744\n",
      "[114]\ttrain-rmse:0.12646\tval-rmse:0.22742\n",
      "[115]\ttrain-rmse:0.12588\tval-rmse:0.22748\n",
      "[116]\ttrain-rmse:0.12553\tval-rmse:0.22740\n",
      "[117]\ttrain-rmse:0.12525\tval-rmse:0.22730\n",
      "[118]\ttrain-rmse:0.12478\tval-rmse:0.22732\n",
      "[119]\ttrain-rmse:0.12459\tval-rmse:0.22728\n",
      "[120]\ttrain-rmse:0.12425\tval-rmse:0.22712\n",
      "[121]\ttrain-rmse:0.12386\tval-rmse:0.22713\n",
      "[122]\ttrain-rmse:0.12349\tval-rmse:0.22704\n",
      "[123]\ttrain-rmse:0.12321\tval-rmse:0.22690\n",
      "[124]\ttrain-rmse:0.12286\tval-rmse:0.22684\n",
      "[125]\ttrain-rmse:0.12234\tval-rmse:0.22685\n",
      "[126]\ttrain-rmse:0.12193\tval-rmse:0.22672\n",
      "[127]\ttrain-rmse:0.12170\tval-rmse:0.22675\n",
      "[128]\ttrain-rmse:0.12118\tval-rmse:0.22646\n",
      "[129]\ttrain-rmse:0.12061\tval-rmse:0.22649\n",
      "[130]\ttrain-rmse:0.11984\tval-rmse:0.22637\n",
      "[131]\ttrain-rmse:0.11964\tval-rmse:0.22635\n",
      "[132]\ttrain-rmse:0.11893\tval-rmse:0.22632\n",
      "[133]\ttrain-rmse:0.11819\tval-rmse:0.22640\n",
      "[134]\ttrain-rmse:0.11769\tval-rmse:0.22644\n",
      "[135]\ttrain-rmse:0.11720\tval-rmse:0.22655\n",
      "[136]\ttrain-rmse:0.11666\tval-rmse:0.22670\n",
      "[137]\ttrain-rmse:0.11647\tval-rmse:0.22673\n",
      "[138]\ttrain-rmse:0.11601\tval-rmse:0.22668\n",
      "[139]\ttrain-rmse:0.11562\tval-rmse:0.22647\n",
      "[140]\ttrain-rmse:0.11472\tval-rmse:0.22648\n",
      "[141]\ttrain-rmse:0.11429\tval-rmse:0.22637\n",
      "[142]\ttrain-rmse:0.11400\tval-rmse:0.22644\n",
      "[143]\ttrain-rmse:0.11334\tval-rmse:0.22635\n",
      "[144]\ttrain-rmse:0.11300\tval-rmse:0.22645\n",
      "[145]\ttrain-rmse:0.11251\tval-rmse:0.22624\n",
      "[146]\ttrain-rmse:0.11186\tval-rmse:0.22616\n",
      "[147]\ttrain-rmse:0.11153\tval-rmse:0.22619\n",
      "[148]\ttrain-rmse:0.11073\tval-rmse:0.22607\n",
      "[149]\ttrain-rmse:0.11038\tval-rmse:0.22620\n",
      "[150]\ttrain-rmse:0.10959\tval-rmse:0.22604\n",
      "[151]\ttrain-rmse:0.10911\tval-rmse:0.22609\n",
      "[152]\ttrain-rmse:0.10893\tval-rmse:0.22604\n",
      "[153]\ttrain-rmse:0.10839\tval-rmse:0.22601\n",
      "[154]\ttrain-rmse:0.10790\tval-rmse:0.22605\n",
      "[155]\ttrain-rmse:0.10734\tval-rmse:0.22612\n",
      "[156]\ttrain-rmse:0.10697\tval-rmse:0.22617\n",
      "[157]\ttrain-rmse:0.10641\tval-rmse:0.22626\n",
      "[158]\ttrain-rmse:0.10619\tval-rmse:0.22624\n",
      "[159]\ttrain-rmse:0.10607\tval-rmse:0.22623\n",
      "[160]\ttrain-rmse:0.10595\tval-rmse:0.22624\n",
      "[161]\ttrain-rmse:0.10580\tval-rmse:0.22624\n",
      "[162]\ttrain-rmse:0.10552\tval-rmse:0.22637\n",
      "[163]\ttrain-rmse:0.10544\tval-rmse:0.22640\n",
      "[164]\ttrain-rmse:0.10533\tval-rmse:0.22641\n",
      "[165]\ttrain-rmse:0.10518\tval-rmse:0.22633\n",
      "[166]\ttrain-rmse:0.10484\tval-rmse:0.22638\n",
      "[167]\ttrain-rmse:0.10452\tval-rmse:0.22641\n",
      "[168]\ttrain-rmse:0.10429\tval-rmse:0.22646\n",
      "[169]\ttrain-rmse:0.10387\tval-rmse:0.22641\n",
      "[170]\ttrain-rmse:0.10352\tval-rmse:0.22643\n",
      "[171]\ttrain-rmse:0.10334\tval-rmse:0.22640\n",
      "[172]\ttrain-rmse:0.10268\tval-rmse:0.22625\n",
      "[173]\ttrain-rmse:0.10242\tval-rmse:0.22625\n",
      "[174]\ttrain-rmse:0.10202\tval-rmse:0.22628\n",
      "[175]\ttrain-rmse:0.10183\tval-rmse:0.22620\n",
      "[176]\ttrain-rmse:0.10146\tval-rmse:0.22622\n",
      "[177]\ttrain-rmse:0.10116\tval-rmse:0.22624\n",
      "[178]\ttrain-rmse:0.10082\tval-rmse:0.22622\n",
      "[179]\ttrain-rmse:0.10047\tval-rmse:0.22622\n",
      "[180]\ttrain-rmse:0.10022\tval-rmse:0.22615\n",
      "[181]\ttrain-rmse:0.10008\tval-rmse:0.22612\n",
      "[182]\ttrain-rmse:0.09968\tval-rmse:0.22600\n",
      "[183]\ttrain-rmse:0.09929\tval-rmse:0.22603\n",
      "[184]\ttrain-rmse:0.09912\tval-rmse:0.22604\n",
      "[185]\ttrain-rmse:0.09900\tval-rmse:0.22601\n",
      "[186]\ttrain-rmse:0.09862\tval-rmse:0.22619\n",
      "[187]\ttrain-rmse:0.09828\tval-rmse:0.22632\n",
      "[188]\ttrain-rmse:0.09794\tval-rmse:0.22625\n",
      "[189]\ttrain-rmse:0.09772\tval-rmse:0.22624\n",
      "[190]\ttrain-rmse:0.09752\tval-rmse:0.22625\n",
      "[191]\ttrain-rmse:0.09708\tval-rmse:0.22611\n",
      "[192]\ttrain-rmse:0.09675\tval-rmse:0.22616\n",
      "[193]\ttrain-rmse:0.09643\tval-rmse:0.22619\n",
      "[194]\ttrain-rmse:0.09637\tval-rmse:0.22615\n",
      "[195]\ttrain-rmse:0.09612\tval-rmse:0.22606\n",
      "[196]\ttrain-rmse:0.09547\tval-rmse:0.22612\n",
      "[197]\ttrain-rmse:0.09502\tval-rmse:0.22619\n",
      "[198]\ttrain-rmse:0.09450\tval-rmse:0.22616\n",
      "[199]\ttrain-rmse:0.09422\tval-rmse:0.22620\n"
     ]
    }
   ],
   "source": [
    "xgb_params = {\n",
    "    'eta': 0.3, \n",
    "    'max_depth': 6,\n",
    "    'min_child_weight': 1,\n",
    "    \n",
    "    'objective': 'reg:squarederror',\n",
    "    'nthread': 8,\n",
    "    \n",
    "    'seed': 1,\n",
    "    'verbosity': 1,\n",
    "}\n",
    "\n",
    "model = xgb.train(xgb_params, dtrain, num_boost_round=200, evals=watchlist)"
   ]
  },
  {
   "cell_type": "code",
   "execution_count": 68,
   "id": "1cda2c05-7eca-4d95-a93d-b97018f35f09",
   "metadata": {},
   "outputs": [
    {
     "name": "stdout",
     "output_type": "stream",
     "text": [
      "[0]\ttrain-rmse:10.44371\tval-rmse:10.44937\n",
      "[1]\ttrain-rmse:9.40118\tval-rmse:9.40684\n",
      "[2]\ttrain-rmse:8.46290\tval-rmse:8.46830\n",
      "[3]\ttrain-rmse:7.61859\tval-rmse:7.62390\n",
      "[4]\ttrain-rmse:6.85878\tval-rmse:6.86366\n",
      "[5]\ttrain-rmse:6.17511\tval-rmse:6.17976\n",
      "[6]\ttrain-rmse:5.55996\tval-rmse:5.56444\n",
      "[7]\ttrain-rmse:5.00644\tval-rmse:5.01079\n",
      "[8]\ttrain-rmse:4.50846\tval-rmse:4.51263\n",
      "[9]\ttrain-rmse:4.06044\tval-rmse:4.06456\n",
      "[10]\ttrain-rmse:3.65747\tval-rmse:3.66144\n",
      "[11]\ttrain-rmse:3.29493\tval-rmse:3.29852\n",
      "[12]\ttrain-rmse:2.96890\tval-rmse:2.97268\n",
      "[13]\ttrain-rmse:2.67580\tval-rmse:2.67960\n",
      "[14]\ttrain-rmse:2.41209\tval-rmse:2.41607\n",
      "[15]\ttrain-rmse:2.17503\tval-rmse:2.17860\n",
      "[16]\ttrain-rmse:1.96209\tval-rmse:1.96592\n",
      "[17]\ttrain-rmse:1.77071\tval-rmse:1.77456\n",
      "[18]\ttrain-rmse:1.59876\tval-rmse:1.60289\n",
      "[19]\ttrain-rmse:1.44451\tval-rmse:1.44902\n",
      "[20]\ttrain-rmse:1.30614\tval-rmse:1.31096\n",
      "[21]\ttrain-rmse:1.18108\tval-rmse:1.18618\n",
      "[22]\ttrain-rmse:1.06956\tval-rmse:1.07525\n",
      "[23]\ttrain-rmse:0.96911\tval-rmse:0.97509\n",
      "[24]\ttrain-rmse:0.87978\tval-rmse:0.88635\n",
      "[25]\ttrain-rmse:0.79938\tval-rmse:0.80638\n",
      "[26]\ttrain-rmse:0.72821\tval-rmse:0.73578\n",
      "[27]\ttrain-rmse:0.66395\tval-rmse:0.67208\n",
      "[28]\ttrain-rmse:0.60709\tval-rmse:0.61568\n",
      "[29]\ttrain-rmse:0.55685\tval-rmse:0.56641\n",
      "[30]\ttrain-rmse:0.51253\tval-rmse:0.52303\n",
      "[31]\ttrain-rmse:0.47316\tval-rmse:0.48447\n",
      "[32]\ttrain-rmse:0.43782\tval-rmse:0.44991\n",
      "[33]\ttrain-rmse:0.40712\tval-rmse:0.42031\n",
      "[34]\ttrain-rmse:0.38065\tval-rmse:0.39480\n",
      "[35]\ttrain-rmse:0.35720\tval-rmse:0.37261\n",
      "[36]\ttrain-rmse:0.33659\tval-rmse:0.35312\n",
      "[37]\ttrain-rmse:0.31902\tval-rmse:0.33635\n",
      "[38]\ttrain-rmse:0.30371\tval-rmse:0.32222\n",
      "[39]\ttrain-rmse:0.29060\tval-rmse:0.31031\n",
      "[40]\ttrain-rmse:0.27985\tval-rmse:0.30045\n",
      "[41]\ttrain-rmse:0.27021\tval-rmse:0.29199\n",
      "[42]\ttrain-rmse:0.26137\tval-rmse:0.28407\n",
      "[43]\ttrain-rmse:0.25433\tval-rmse:0.27804\n",
      "[44]\ttrain-rmse:0.24856\tval-rmse:0.27300\n",
      "[45]\ttrain-rmse:0.24347\tval-rmse:0.26852\n",
      "[46]\ttrain-rmse:0.23911\tval-rmse:0.26488\n",
      "[47]\ttrain-rmse:0.23511\tval-rmse:0.26142\n",
      "[48]\ttrain-rmse:0.23143\tval-rmse:0.25823\n",
      "[49]\ttrain-rmse:0.22841\tval-rmse:0.25593\n",
      "[50]\ttrain-rmse:0.22580\tval-rmse:0.25398\n",
      "[51]\ttrain-rmse:0.22404\tval-rmse:0.25252\n",
      "[52]\ttrain-rmse:0.22125\tval-rmse:0.25028\n",
      "[53]\ttrain-rmse:0.21948\tval-rmse:0.24879\n",
      "[54]\ttrain-rmse:0.21759\tval-rmse:0.24720\n",
      "[55]\ttrain-rmse:0.21595\tval-rmse:0.24586\n",
      "[56]\ttrain-rmse:0.21416\tval-rmse:0.24513\n",
      "[57]\ttrain-rmse:0.21298\tval-rmse:0.24424\n",
      "[58]\ttrain-rmse:0.21211\tval-rmse:0.24355\n",
      "[59]\ttrain-rmse:0.21075\tval-rmse:0.24284\n",
      "[60]\ttrain-rmse:0.21000\tval-rmse:0.24224\n",
      "[61]\ttrain-rmse:0.20879\tval-rmse:0.24196\n",
      "[62]\ttrain-rmse:0.20778\tval-rmse:0.24126\n",
      "[63]\ttrain-rmse:0.20709\tval-rmse:0.24082\n",
      "[64]\ttrain-rmse:0.20664\tval-rmse:0.24066\n",
      "[65]\ttrain-rmse:0.20538\tval-rmse:0.24053\n",
      "[66]\ttrain-rmse:0.20472\tval-rmse:0.24038\n",
      "[67]\ttrain-rmse:0.20377\tval-rmse:0.23969\n",
      "[68]\ttrain-rmse:0.20325\tval-rmse:0.23943\n",
      "[69]\ttrain-rmse:0.20288\tval-rmse:0.23926\n",
      "[70]\ttrain-rmse:0.20225\tval-rmse:0.23893\n",
      "[71]\ttrain-rmse:0.20135\tval-rmse:0.23836\n",
      "[72]\ttrain-rmse:0.20109\tval-rmse:0.23829\n",
      "[73]\ttrain-rmse:0.20007\tval-rmse:0.23782\n",
      "[74]\ttrain-rmse:0.19952\tval-rmse:0.23765\n",
      "[75]\ttrain-rmse:0.19884\tval-rmse:0.23720\n",
      "[76]\ttrain-rmse:0.19779\tval-rmse:0.23699\n",
      "[77]\ttrain-rmse:0.19691\tval-rmse:0.23674\n",
      "[78]\ttrain-rmse:0.19633\tval-rmse:0.23645\n",
      "[79]\ttrain-rmse:0.19608\tval-rmse:0.23640\n",
      "[80]\ttrain-rmse:0.19554\tval-rmse:0.23622\n",
      "[81]\ttrain-rmse:0.19490\tval-rmse:0.23593\n",
      "[82]\ttrain-rmse:0.19425\tval-rmse:0.23556\n",
      "[83]\ttrain-rmse:0.19345\tval-rmse:0.23532\n",
      "[84]\ttrain-rmse:0.19286\tval-rmse:0.23511\n",
      "[85]\ttrain-rmse:0.19216\tval-rmse:0.23508\n",
      "[86]\ttrain-rmse:0.19147\tval-rmse:0.23488\n",
      "[87]\ttrain-rmse:0.19027\tval-rmse:0.23418\n",
      "[88]\ttrain-rmse:0.18961\tval-rmse:0.23405\n",
      "[89]\ttrain-rmse:0.18931\tval-rmse:0.23398\n",
      "[90]\ttrain-rmse:0.18863\tval-rmse:0.23364\n",
      "[91]\ttrain-rmse:0.18819\tval-rmse:0.23352\n",
      "[92]\ttrain-rmse:0.18777\tval-rmse:0.23339\n",
      "[93]\ttrain-rmse:0.18747\tval-rmse:0.23326\n",
      "[94]\ttrain-rmse:0.18689\tval-rmse:0.23314\n",
      "[95]\ttrain-rmse:0.18633\tval-rmse:0.23297\n",
      "[96]\ttrain-rmse:0.18566\tval-rmse:0.23299\n",
      "[97]\ttrain-rmse:0.18529\tval-rmse:0.23290\n",
      "[98]\ttrain-rmse:0.18480\tval-rmse:0.23275\n",
      "[99]\ttrain-rmse:0.18415\tval-rmse:0.23245\n",
      "[100]\ttrain-rmse:0.18385\tval-rmse:0.23239\n",
      "[101]\ttrain-rmse:0.18356\tval-rmse:0.23236\n",
      "[102]\ttrain-rmse:0.18298\tval-rmse:0.23205\n",
      "[103]\ttrain-rmse:0.18199\tval-rmse:0.23137\n",
      "[104]\ttrain-rmse:0.18143\tval-rmse:0.23118\n",
      "[105]\ttrain-rmse:0.18108\tval-rmse:0.23107\n",
      "[106]\ttrain-rmse:0.18065\tval-rmse:0.23087\n",
      "[107]\ttrain-rmse:0.18042\tval-rmse:0.23083\n",
      "[108]\ttrain-rmse:0.18001\tval-rmse:0.23073\n",
      "[109]\ttrain-rmse:0.17939\tval-rmse:0.23046\n",
      "[110]\ttrain-rmse:0.17875\tval-rmse:0.23018\n",
      "[111]\ttrain-rmse:0.17838\tval-rmse:0.23001\n",
      "[112]\ttrain-rmse:0.17806\tval-rmse:0.22995\n",
      "[113]\ttrain-rmse:0.17750\tval-rmse:0.22991\n",
      "[114]\ttrain-rmse:0.17692\tval-rmse:0.22963\n",
      "[115]\ttrain-rmse:0.17643\tval-rmse:0.22955\n",
      "[116]\ttrain-rmse:0.17619\tval-rmse:0.22957\n",
      "[117]\ttrain-rmse:0.17559\tval-rmse:0.22938\n",
      "[118]\ttrain-rmse:0.17538\tval-rmse:0.22933\n",
      "[119]\ttrain-rmse:0.17454\tval-rmse:0.22905\n",
      "[120]\ttrain-rmse:0.17404\tval-rmse:0.22891\n",
      "[121]\ttrain-rmse:0.17375\tval-rmse:0.22885\n",
      "[122]\ttrain-rmse:0.17338\tval-rmse:0.22873\n",
      "[123]\ttrain-rmse:0.17248\tval-rmse:0.22823\n",
      "[124]\ttrain-rmse:0.17224\tval-rmse:0.22811\n",
      "[125]\ttrain-rmse:0.17193\tval-rmse:0.22800\n",
      "[126]\ttrain-rmse:0.17170\tval-rmse:0.22798\n",
      "[127]\ttrain-rmse:0.17156\tval-rmse:0.22805\n",
      "[128]\ttrain-rmse:0.17139\tval-rmse:0.22809\n",
      "[129]\ttrain-rmse:0.17104\tval-rmse:0.22799\n",
      "[130]\ttrain-rmse:0.17062\tval-rmse:0.22784\n",
      "[131]\ttrain-rmse:0.17036\tval-rmse:0.22782\n",
      "[132]\ttrain-rmse:0.17000\tval-rmse:0.22772\n",
      "[133]\ttrain-rmse:0.16960\tval-rmse:0.22765\n",
      "[134]\ttrain-rmse:0.16942\tval-rmse:0.22756\n",
      "[135]\ttrain-rmse:0.16900\tval-rmse:0.22751\n",
      "[136]\ttrain-rmse:0.16879\tval-rmse:0.22745\n",
      "[137]\ttrain-rmse:0.16831\tval-rmse:0.22733\n",
      "[138]\ttrain-rmse:0.16780\tval-rmse:0.22729\n",
      "[139]\ttrain-rmse:0.16727\tval-rmse:0.22712\n",
      "[140]\ttrain-rmse:0.16711\tval-rmse:0.22713\n",
      "[141]\ttrain-rmse:0.16671\tval-rmse:0.22715\n",
      "[142]\ttrain-rmse:0.16622\tval-rmse:0.22704\n",
      "[143]\ttrain-rmse:0.16599\tval-rmse:0.22704\n",
      "[144]\ttrain-rmse:0.16587\tval-rmse:0.22710\n",
      "[145]\ttrain-rmse:0.16556\tval-rmse:0.22703\n",
      "[146]\ttrain-rmse:0.16541\tval-rmse:0.22703\n",
      "[147]\ttrain-rmse:0.16510\tval-rmse:0.22695\n",
      "[148]\ttrain-rmse:0.16486\tval-rmse:0.22686\n",
      "[149]\ttrain-rmse:0.16459\tval-rmse:0.22683\n",
      "[150]\ttrain-rmse:0.16412\tval-rmse:0.22674\n",
      "[151]\ttrain-rmse:0.16368\tval-rmse:0.22672\n",
      "[152]\ttrain-rmse:0.16315\tval-rmse:0.22642\n",
      "[153]\ttrain-rmse:0.16304\tval-rmse:0.22647\n",
      "[154]\ttrain-rmse:0.16292\tval-rmse:0.22650\n",
      "[155]\ttrain-rmse:0.16255\tval-rmse:0.22647\n",
      "[156]\ttrain-rmse:0.16218\tval-rmse:0.22638\n",
      "[157]\ttrain-rmse:0.16205\tval-rmse:0.22636\n",
      "[158]\ttrain-rmse:0.16166\tval-rmse:0.22620\n",
      "[159]\ttrain-rmse:0.16120\tval-rmse:0.22609\n",
      "[160]\ttrain-rmse:0.16111\tval-rmse:0.22611\n",
      "[161]\ttrain-rmse:0.16074\tval-rmse:0.22599\n",
      "[162]\ttrain-rmse:0.16032\tval-rmse:0.22581\n",
      "[163]\ttrain-rmse:0.16026\tval-rmse:0.22576\n",
      "[164]\ttrain-rmse:0.15991\tval-rmse:0.22563\n",
      "[165]\ttrain-rmse:0.15965\tval-rmse:0.22555\n",
      "[166]\ttrain-rmse:0.15956\tval-rmse:0.22552\n",
      "[167]\ttrain-rmse:0.15949\tval-rmse:0.22557\n",
      "[168]\ttrain-rmse:0.15927\tval-rmse:0.22555\n",
      "[169]\ttrain-rmse:0.15898\tval-rmse:0.22545\n",
      "[170]\ttrain-rmse:0.15851\tval-rmse:0.22521\n",
      "[171]\ttrain-rmse:0.15817\tval-rmse:0.22517\n",
      "[172]\ttrain-rmse:0.15778\tval-rmse:0.22505\n",
      "[173]\ttrain-rmse:0.15751\tval-rmse:0.22502\n",
      "[174]\ttrain-rmse:0.15730\tval-rmse:0.22500\n",
      "[175]\ttrain-rmse:0.15723\tval-rmse:0.22500\n",
      "[176]\ttrain-rmse:0.15686\tval-rmse:0.22506\n",
      "[177]\ttrain-rmse:0.15665\tval-rmse:0.22497\n",
      "[178]\ttrain-rmse:0.15623\tval-rmse:0.22491\n",
      "[179]\ttrain-rmse:0.15588\tval-rmse:0.22469\n",
      "[180]\ttrain-rmse:0.15563\tval-rmse:0.22469\n",
      "[181]\ttrain-rmse:0.15542\tval-rmse:0.22462\n",
      "[182]\ttrain-rmse:0.15526\tval-rmse:0.22459\n",
      "[183]\ttrain-rmse:0.15485\tval-rmse:0.22456\n",
      "[184]\ttrain-rmse:0.15470\tval-rmse:0.22452\n",
      "[185]\ttrain-rmse:0.15417\tval-rmse:0.22431\n",
      "[186]\ttrain-rmse:0.15405\tval-rmse:0.22431\n",
      "[187]\ttrain-rmse:0.15393\tval-rmse:0.22435\n",
      "[188]\ttrain-rmse:0.15361\tval-rmse:0.22426\n",
      "[189]\ttrain-rmse:0.15340\tval-rmse:0.22429\n",
      "[190]\ttrain-rmse:0.15326\tval-rmse:0.22429\n",
      "[191]\ttrain-rmse:0.15310\tval-rmse:0.22426\n",
      "[192]\ttrain-rmse:0.15287\tval-rmse:0.22416\n",
      "[193]\ttrain-rmse:0.15250\tval-rmse:0.22413\n",
      "[194]\ttrain-rmse:0.15231\tval-rmse:0.22411\n",
      "[195]\ttrain-rmse:0.15203\tval-rmse:0.22407\n",
      "[196]\ttrain-rmse:0.15162\tval-rmse:0.22396\n",
      "[197]\ttrain-rmse:0.15140\tval-rmse:0.22394\n",
      "[198]\ttrain-rmse:0.15110\tval-rmse:0.22387\n",
      "[199]\ttrain-rmse:0.15097\tval-rmse:0.22387\n"
     ]
    }
   ],
   "source": [
    "xgb_params = {\n",
    "    'eta': 0.1, \n",
    "    'max_depth': 6,\n",
    "    'min_child_weight': 1,\n",
    "    \n",
    "    'objective': 'reg:squarederror',\n",
    "    'nthread': 8,\n",
    "    \n",
    "    'seed': 1,\n",
    "    'verbosity': 1,\n",
    "}\n",
    "\n",
    "model = xgb.train(xgb_params, dtrain, num_boost_round=200, evals=watchlist)"
   ]
  }
 ],
 "metadata": {
  "kernelspec": {
   "display_name": "Python 3 (ipykernel)",
   "language": "python",
   "name": "python3"
  },
  "language_info": {
   "codemirror_mode": {
    "name": "ipython",
    "version": 3
   },
   "file_extension": ".py",
   "mimetype": "text/x-python",
   "name": "python",
   "nbconvert_exporter": "python",
   "pygments_lexer": "ipython3",
   "version": "3.10.6"
  }
 },
 "nbformat": 4,
 "nbformat_minor": 5
}
